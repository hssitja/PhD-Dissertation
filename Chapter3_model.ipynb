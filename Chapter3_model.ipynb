{
  "nbformat": 4,
  "nbformat_minor": 0,
  "metadata": {
    "colab": {
      "provenance": [],
      "authorship_tag": "ABX9TyN7hiq7JM9lZHVKimauWG68",
      "include_colab_link": true
    },
    "kernelspec": {
      "name": "python3",
      "display_name": "Python 3"
    },
    "language_info": {
      "name": "python"
    }
  },
  "cells": [
    {
      "cell_type": "markdown",
      "metadata": {
        "id": "view-in-github",
        "colab_type": "text"
      },
      "source": [
        "<a href=\"https://colab.research.google.com/github/hssitja/PhD-Dissertation/blob/Chapter-3/Chapter3_model.ipynb\" target=\"_parent\"><img src=\"https://colab.research.google.com/assets/colab-badge.svg\" alt=\"Open In Colab\"/></a>"
      ]
    },
    {
      "cell_type": "code",
      "execution_count": 223,
      "metadata": {
        "id": "F-Ct3woMTGoU"
      },
      "outputs": [],
      "source": [
        "import numpy as np \n",
        "import matplotlib.pyplot as plt\n",
        "# plt.style.use(['science', 'notebook', 'grid'])\n",
        "plt.style.available\n",
        "%matplotlib inline\n",
        "import scipy as sp\n",
        "import sympy as smp\n",
        "from sympy import Piecewise, And, lambdify, symbols, plot, plot_implicit\n",
        "from sympy.stats import Beta, density, P, E, variance, cdf, Kumaraswamy\n",
        "from sympy.plotting.plot import Plot\n",
        "from scipy.stats import beta"
      ]
    },
    {
      "cell_type": "code",
      "source": [
        "T, x_r, x_l = smp.symbols('T x_r x_l', Dummy = True)"
      ],
      "metadata": {
        "id": "SAW_Lz9QTfIl"
      },
      "execution_count": 224,
      "outputs": []
    },
    {
      "cell_type": "code",
      "source": [
        "A_r, A_l, W, mu, p, qtilde, qhat, theta, A_theta, x_theta = smp.symbols('A_r A_l W mu p qtilde qhat theta A_theta x_theta', real = True, positive = True)"
      ],
      "metadata": {
        "id": "eyCmYLSNV2N2"
      },
      "execution_count": 225,
      "outputs": []
    },
    {
      "cell_type": "code",
      "source": [
        "# Defining chi as a random variable beta distributed\n",
        "\n",
        "a, b = smp.symbols('a b', integer = True, positive = True)\n",
        "\n",
        "z = smp.symbols('z')\n",
        "\n",
        "a, b = (2,8) # shape parameters for beta distribution\n",
        "\n",
        "Chi = Beta('chi', a, b)\n",
        "\n",
        "D = density(Chi)(z)"
      ],
      "metadata": {
        "id": "SaZA1u8db5tm"
      },
      "execution_count": 226,
      "outputs": []
    },
    {
      "cell_type": "code",
      "source": [
        "f1 = (1-Chi)*mu # votes_r in separating equilibrium x_r = 0 & x_l = 1\n",
        "f2 = Chi + (1-Chi)*(1-mu) # votes_l in separating equilibrium x_r = 0 & x_l = 1\n",
        "\n",
        "f3 = Chi + (1-Chi)*(p*mu + (1-p)*(1-mu)) # votes for both types of incumbents in pooling equilibrium x_r = 1 & x_l = 1\n",
        "f4 = Chi + (1-Chi)*(qhat*mu + (1-qhat)*(1-mu))# votes for both types of incumbents outside pooling equilibrium x_r = 1 & x_l = 1\n",
        "\n",
        "f5 = (1-Chi)*(p*mu + (1-p)*(1-mu)) # votes for both types of incumbents in pooling equilibrium x_r = 1 & x_l = 1\n",
        "f6 = (1-Chi)*(qtilde*mu + (1-qtilde)*(1-mu))# votes for both types of incumbents outside pooling equilibrium x_r = 1 & x_l = 1\n",
        "\n",
        "votes_r = Piecewise((f1, And(x_r < 1, x_l > 0)), (f3, And(x_r > 0, x_l > 0)), (f5, And(x_r < 1, x_l < 1)))\n",
        "votes_l = Piecewise((f2, And(x_r < 1, x_l > 0)), (f3, And(x_r > 0, x_l > 0)), (f5, And(x_r < 1, x_l < 1)))"
      ],
      "metadata": {
        "id": "ctAjNaGYp7lD"
      },
      "execution_count": 227,
      "outputs": []
    },
    {
      "cell_type": "code",
      "source": [
        "votes_l"
      ],
      "metadata": {
        "colab": {
          "base_uri": "https://localhost:8080/",
          "height": 90
        },
        "id": "VP5vczJ7ycrH",
        "outputId": "27890267-14f1-43b8-b93e-69cad6492159"
      },
      "execution_count": 228,
      "outputs": [
        {
          "output_type": "execute_result",
          "data": {
            "text/plain": [
              "Piecewise(((1 - mu)*(1 - chi) + chi, (x_l > 0) & (x_r < 1)), ((1 - chi)*(mu*p + (1 - mu)*(1 - p)) + chi, (x_l > 0) & (x_r > 0)), ((1 - chi)*(mu*p + (1 - mu)*(1 - p)), (x_l < 1) & (x_r < 1)))"
            ],
            "text/latex": "$\\displaystyle \\begin{cases} \\left(1 - \\mu\\right) \\left(1 - \\chi\\right) + \\chi & \\text{for}\\: x_{l} > 0 \\wedge x_{r} < 1 \\\\\\left(1 - \\chi\\right) \\left(\\mu p + \\left(1 - \\mu\\right) \\left(1 - p\\right)\\right) + \\chi & \\text{for}\\: x_{l} > 0 \\wedge x_{r} > 0 \\\\\\left(1 - \\chi\\right) \\left(\\mu p + \\left(1 - \\mu\\right) \\left(1 - p\\right)\\right) & \\text{for}\\: x_{l} < 1 \\wedge x_{r} < 1 \\end{cases}$"
          },
          "metadata": {},
          "execution_count": 228
        }
      ]
    },
    {
      "cell_type": "code",
      "source": [
        "smp.latex(votes_r)"
      ],
      "metadata": {
        "colab": {
          "base_uri": "https://localhost:8080/",
          "height": 52
        },
        "id": "af5Or_GnlvT4",
        "outputId": "530512af-3d80-4a53-f6ff-ae494b284a55"
      },
      "execution_count": 229,
      "outputs": [
        {
          "output_type": "execute_result",
          "data": {
            "text/plain": [
              "'\\\\begin{cases} \\\\mu \\\\left(1 - \\\\chi\\\\right) & \\\\text{for}\\\\: x_{l} > 0 \\\\wedge x_{r} < 1 \\\\\\\\\\\\left(1 - \\\\chi\\\\right) \\\\left(\\\\mu p + \\\\left(1 - \\\\mu\\\\right) \\\\left(1 - p\\\\right)\\\\right) + \\\\chi & \\\\text{for}\\\\: x_{l} > 0 \\\\wedge x_{r} > 0 \\\\\\\\\\\\left(1 - \\\\chi\\\\right) \\\\left(\\\\mu p + \\\\left(1 - \\\\mu\\\\right) \\\\left(1 - p\\\\right)\\\\right) & \\\\text{for}\\\\: x_{l} < 1 \\\\wedge x_{r} < 1 \\\\end{cases}'"
            ],
            "application/vnd.google.colaboratory.intrinsic+json": {
              "type": "string"
            }
          },
          "metadata": {},
          "execution_count": 229
        }
      ]
    },
    {
      "cell_type": "markdown",
      "source": [
        "\\begin{equation}votes_r = \\begin{cases} \\mu \\left(1 - \\chi\\right) & \\text{for}\\: x_{l} > 0 \\wedge x_{r} < 1 \\\\\\left(1 - \\chi\\right) \\left(\\mu p + \\left(1 - \\mu\\right) \\left(1 - p\\right)\\right) + \\chi & \\text{for}\\: x_{l} > 0 \\wedge x_{r} > 0 \\\\\\left(1 - \\chi\\right) \\left(\\mu p + \\left(1 - \\mu\\right) \\left(1 - p\\right)\\right) & \\text{for}\\: x_{l} < 1 \\wedge x_{r} < 1 \\end{cases} \\end{equation}"
      ],
      "metadata": {
        "id": "dx4LX8BqrZlT"
      }
    },
    {
      "cell_type": "code",
      "source": [
        "Chi2 = Kumaraswamy('chi2', 2, 20)\n",
        "cdf(Chi)(z), cdf(Chi2)(z)"
      ],
      "metadata": {
        "id": "SYNiGP-tcpvg",
        "colab": {
          "base_uri": "https://localhost:8080/"
        },
        "outputId": "52133dd1-bb7b-4cdd-cacf-d057cf483055"
      },
      "execution_count": 230,
      "outputs": [
        {
          "output_type": "execute_result",
          "data": {
            "text/plain": [
              "(Piecewise((-z**9/(9*beta(2, 8)) + 7*z**8/(8*beta(2, 8)) - 3*z**7/beta(2, 8) + 35*z**6/(6*beta(2, 8)) - 7*z**5/beta(2, 8) + 21*z**4/(4*beta(2, 8)) - 7*z**3/(3*beta(2, 8)) + z**2/(2*beta(2, 8)), z >= 0), (0, True)),\n",
              " Piecewise((0, z < 0), (1 - (1 - z**2)**20, z <= 1), (1, True)))"
            ]
          },
          "metadata": {},
          "execution_count": 230
        }
      ]
    },
    {
      "cell_type": "code",
      "source": [
        "P(Chi2 < 0.5), P(Chi < 0.5).evalf()"
      ],
      "metadata": {
        "colab": {
          "base_uri": "https://localhost:8080/"
        },
        "id": "mfsMov8DefQr",
        "outputId": "1f654543-a5f4-4fd8-a99d-4aeb2abb1636"
      },
      "execution_count": 231,
      "outputs": [
        {
          "output_type": "execute_result",
          "data": {
            "text/plain": [
              "(0.996828788061066, 0.980468749999998)"
            ]
          },
          "metadata": {},
          "execution_count": 231
        }
      ]
    },
    {
      "cell_type": "code",
      "source": [
        "f = (2*mu - 1)/2*mu\n",
        "Psi_p = (0.5 - (p*mu + (1-mu)*(1-p)))/(1-(p*mu + (1-mu)*(1-p)))\n",
        "Psi_qtilde = (2*(qtilde*mu + (1-qtilde)*(1-mu))-1)/(2*(qtilde*mu + (1-qtilde)*(1-mu)))"
      ],
      "metadata": {
        "id": "9Nael-rXc5eF"
      },
      "execution_count": 232,
      "outputs": []
    },
    {
      "cell_type": "code",
      "source": [
        "Psi_p"
      ],
      "metadata": {
        "colab": {
          "base_uri": "https://localhost:8080/",
          "height": 57
        },
        "id": "0Jk5mVFzeOSR",
        "outputId": "24813c88-466a-435c-ef80-421c935a805e"
      },
      "execution_count": 233,
      "outputs": [
        {
          "output_type": "execute_result",
          "data": {
            "text/plain": [
              "(-mu*p - (1 - mu)*(1 - p) + 0.5)/(-mu*p - (1 - mu)*(1 - p) + 1)"
            ],
            "text/latex": "$\\displaystyle \\frac{- \\mu p - \\left(1 - \\mu\\right) \\left(1 - p\\right) + 0.5}{- \\mu p - \\left(1 - \\mu\\right) \\left(1 - p\\right) + 1}$"
          },
          "metadata": {},
          "execution_count": 233
        }
      ]
    },
    {
      "cell_type": "code",
      "source": [
        "Psi_qtilde"
      ],
      "metadata": {
        "colab": {
          "base_uri": "https://localhost:8080/",
          "height": 57
        },
        "id": "gAUsahDVzO6c",
        "outputId": "fe3e9247-43db-426c-9d0f-6e1bc94bac8c"
      },
      "execution_count": 234,
      "outputs": [
        {
          "output_type": "execute_result",
          "data": {
            "text/plain": [
              "(2*mu*qtilde + 2*(1 - mu)*(1 - qtilde) - 1)/(2*mu*qtilde + 2*(1 - mu)*(1 - qtilde))"
            ],
            "text/latex": "$\\displaystyle \\frac{2 \\mu \\tilde{q} + 2 \\left(1 - \\mu\\right) \\left(1 - \\tilde{q}\\right) - 1}{2 \\mu \\tilde{q} + 2 \\left(1 - \\mu\\right) \\left(1 - \\tilde{q}\\right)}$"
          },
          "metadata": {},
          "execution_count": 234
        }
      ]
    },
    {
      "cell_type": "code",
      "source": [
        "Psi_p.simplify()"
      ],
      "metadata": {
        "colab": {
          "base_uri": "https://localhost:8080/",
          "height": 57
        },
        "id": "8k230OhJeDfz",
        "outputId": "95a7457d-9e9c-41e1-94c0-8c2c21d94309"
      },
      "execution_count": 235,
      "outputs": [
        {
          "output_type": "execute_result",
          "data": {
            "text/plain": [
              "(mu*p + (mu - 1)*(p - 1) - 0.5)/(mu*p + (mu - 1)*(p - 1) - 1)"
            ],
            "text/latex": "$\\displaystyle \\frac{\\mu p + \\left(\\mu - 1\\right) \\left(p - 1\\right) - 0.5}{\\mu p + \\left(\\mu - 1\\right) \\left(p - 1\\right) - 1}$"
          },
          "metadata": {},
          "execution_count": 235
        }
      ]
    },
    {
      "cell_type": "code",
      "source": [
        "Psi_qtilde.simplify()"
      ],
      "metadata": {
        "colab": {
          "base_uri": "https://localhost:8080/",
          "height": 59
        },
        "id": "rHIZQl6IzHf_",
        "outputId": "e65aee8a-be77-413c-e464-bc39b1d93e91"
      },
      "execution_count": 236,
      "outputs": [
        {
          "output_type": "execute_result",
          "data": {
            "text/plain": [
              "(2*mu*qtilde - mu - qtilde + 1/2)/(2*mu*qtilde - mu - qtilde + 1)"
            ],
            "text/latex": "$\\displaystyle \\frac{2 \\mu \\tilde{q} - \\mu - \\tilde{q} + \\frac{1}{2}}{2 \\mu \\tilde{q} - \\mu - \\tilde{q} + 1}$"
          },
          "metadata": {},
          "execution_count": 236
        }
      ]
    },
    {
      "cell_type": "code",
      "source": [
        "Psi_p.cancel()"
      ],
      "metadata": {
        "colab": {
          "base_uri": "https://localhost:8080/",
          "height": 54
        },
        "id": "PvGSoRcEoCR4",
        "outputId": "db567731-c42c-4d7b-9930-a75396547f08"
      },
      "execution_count": 237,
      "outputs": [
        {
          "output_type": "execute_result",
          "data": {
            "text/plain": [
              "(2.0*mu*p - 1.0*mu - 1.0*p + 0.5)/(2.0*mu*p - 1.0*mu - 1.0*p)"
            ],
            "text/latex": "$\\displaystyle \\frac{2.0 \\mu p - 1.0 \\mu - 1.0 p + 0.5}{2.0 \\mu p - 1.0 \\mu - 1.0 p}$"
          },
          "metadata": {},
          "execution_count": 237
        }
      ]
    },
    {
      "cell_type": "code",
      "source": [
        "Psi_qtilde.cancel()"
      ],
      "metadata": {
        "colab": {
          "base_uri": "https://localhost:8080/",
          "height": 55
        },
        "id": "UI48MNk9zlD8",
        "outputId": "d421cb38-9c6a-4a12-8ee6-95a45593990d"
      },
      "execution_count": 238,
      "outputs": [
        {
          "output_type": "execute_result",
          "data": {
            "text/plain": [
              "(4*mu*qtilde - 2*mu - 2*qtilde + 1)/(4*mu*qtilde - 2*mu - 2*qtilde + 2)"
            ],
            "text/latex": "$\\displaystyle \\frac{4 \\mu \\tilde{q} - 2 \\mu - 2 \\tilde{q} + 1}{4 \\mu \\tilde{q} - 2 \\mu - 2 \\tilde{q} + 2}$"
          },
          "metadata": {},
          "execution_count": 238
        }
      ]
    },
    {
      "cell_type": "code",
      "source": [
        "f.simplify()"
      ],
      "metadata": {
        "colab": {
          "base_uri": "https://localhost:8080/",
          "height": 58
        },
        "id": "g_5RA3ASdju1",
        "outputId": "c121d63e-5069-457e-b866-87c29a997dd9"
      },
      "execution_count": 239,
      "outputs": [
        {
          "output_type": "execute_result",
          "data": {
            "text/plain": [
              "mu*(mu - 1/2)"
            ],
            "text/latex": "$\\displaystyle \\mu \\left(\\mu - \\frac{1}{2}\\right)$"
          },
          "metadata": {},
          "execution_count": 239
        }
      ]
    },
    {
      "cell_type": "code",
      "source": [
        "cdf(Chi)(f.subs(mu,0.7)).evalf()"
      ],
      "metadata": {
        "colab": {
          "base_uri": "https://localhost:8080/",
          "height": 37
        },
        "id": "ysrfN94kdAXU",
        "outputId": "cbb5436c-bb27-47ca-b68f-9a6aff75603f"
      },
      "execution_count": 240,
      "outputs": [
        {
          "output_type": "execute_result",
          "data": {
            "text/plain": [
              "0.365657994534039"
            ],
            "text/latex": "$\\displaystyle 0.365657994534039$"
          },
          "metadata": {},
          "execution_count": 240
        }
      ]
    },
    {
      "cell_type": "code",
      "source": [
        "elected_r, elected_l, elected_theta = smp.symbols('elected_r elected_l elected_theta')"
      ],
      "metadata": {
        "id": "eHNSxJvOODfx"
      },
      "execution_count": 241,
      "outputs": []
    },
    {
      "cell_type": "code",
      "source": [
        "Util_r, Util_l = ( (A_r*x_r*(1-T) - A_r*x_r*T) + (A_r*(1-x_r)*T - A_r*(1-x_r)*(1-T) + W*elected_r),\n",
        "                  (A_l*x_l*(1-T) - A_l*x_l*T) + (A_l*(1-x_l)*T - A_l*(1-x_l)*(1-T) + W*elected_l) )"
      ],
      "metadata": {
        "id": "WfEz6K_yfyEO"
      },
      "execution_count": 242,
      "outputs": []
    },
    {
      "cell_type": "code",
      "source": [
        "Util_theta = A_theta*x_theta + W*elected_theta\n",
        "Util_theta"
      ],
      "metadata": {
        "colab": {
          "base_uri": "https://localhost:8080/",
          "height": 38
        },
        "id": "ZP_q6JDqnAvN",
        "outputId": "71aa4407-21f9-46be-c874-b8ad38ddb95e"
      },
      "execution_count": 243,
      "outputs": [
        {
          "output_type": "execute_result",
          "data": {
            "text/plain": [
              "A_theta*x_theta + W*elected_theta"
            ],
            "text/latex": "$\\displaystyle A_{\\theta} x_{\\theta} + W elected_{\\theta}$"
          },
          "metadata": {},
          "execution_count": 243
        }
      ]
    },
    {
      "cell_type": "code",
      "source": [],
      "metadata": {
        "id": "8GIbzqFAaU6m"
      },
      "execution_count": 243,
      "outputs": []
    },
    {
      "cell_type": "code",
      "source": [
        "# Contour plots\n",
        "res_1 = smp.Rational(1,2) - cdf(Chi)((2*mu - 1)/2*mu)"
      ],
      "metadata": {
        "id": "gGiXkt3vzFIa"
      },
      "execution_count": 244,
      "outputs": []
    },
    {
      "cell_type": "code",
      "source": [
        "plot(res_1, (mu,0,1))"
      ],
      "metadata": {
        "colab": {
          "base_uri": "https://localhost:8080/",
          "height": 314
        },
        "id": "yPgeQr8vlbCw",
        "outputId": "6d6b3bbd-2ac0-4f77-f82e-3921ccbb2989"
      },
      "execution_count": 245,
      "outputs": [
        {
          "output_type": "display_data",
          "data": {
            "text/plain": [
              "<Figure size 432x288 with 1 Axes>"
            ],
            "image/png": "[encoded data removed]"
          },
          "metadata": {
            "needs_background": "light"
          }
        },
        {
          "output_type": "execute_result",
          "data": {
            "text/plain": [
              "<sympy.plotting.plot.Plot at 0x7f4394bd2650>"
            ]
          },
          "metadata": {},
          "execution_count": 245
        }
      ]
    },
    {
      "cell_type": "code",
      "source": [
        "# Comparison with Chi uniform distributed\n",
        "\n",
        "ChiU = Beta('chi', 1, 1)\n",
        "res_1_U = smp.Rational(1,2) - cdf(ChiU)((2*mu - 1)/2*mu)\n",
        "plot(res_1_U, (mu,0,1))"
      ],
      "metadata": {
        "colab": {
          "base_uri": "https://localhost:8080/",
          "height": 314
        },
        "id": "Cs5XXg4ztg_x",
        "outputId": "eefdb65f-6c47-4c30-b0db-ac3fa8c5827d"
      },
      "execution_count": 246,
      "outputs": [
        {
          "output_type": "display_data",
          "data": {
            "text/plain": [
              "<Figure size 432x288 with 1 Axes>"
            ],
            "image/png": "[encoded data removed]"
          },
          "metadata": {
            "needs_background": "light"
          }
        },
        {
          "output_type": "execute_result",
          "data": {
            "text/plain": [
              "<sympy.plotting.plot.Plot at 0x7f438c402e50>"
            ]
          },
          "metadata": {},
          "execution_count": 246
        }
      ]
    },
    {
      "cell_type": "code",
      "source": [
        "z = smp.symbols('z')\n",
        "\n",
        "res_1, res_2, res_3, res_4 = smp.symbols('res_1 res_2 res_3 res_4', real=True, positive=True)\n",
        "\n",
        "res = Piecewise((res_1, z < 0), (res_2, And(z >= 0, z < 1)), (res_3, And(z >= 1, z < 2)), (res_4, z > 2))"
      ],
      "metadata": {
        "id": "jrNbwcfpfsyA"
      },
      "execution_count": 247,
      "outputs": []
    },
    {
      "cell_type": "code",
      "source": [
        "res"
      ],
      "metadata": {
        "colab": {
          "base_uri": "https://localhost:8080/",
          "height": 115
        },
        "id": "19hWM8ZpHkEw",
        "outputId": "66fe71d1-0ed7-4418-e3c5-91e1bc763e21"
      },
      "execution_count": 248,
      "outputs": [
        {
          "output_type": "execute_result",
          "data": {
            "text/plain": [
              "Piecewise((res_1, z < 0), (res_2, z < 1), (res_3, z < 2), (res_4, z > 2))"
            ],
            "text/latex": "$\\displaystyle \\begin{cases} res_{1} & \\text{for}\\: z < 0 \\\\res_{2} & \\text{for}\\: z < 1 \\\\res_{3} & \\text{for}\\: z < 2 \\\\res_{4} & \\text{for}\\: z > 2 \\end{cases}$"
          },
          "metadata": {},
          "execution_count": 248
        }
      ]
    },
    {
      "cell_type": "code",
      "source": [
        "def function_z(x):\n",
        "  return smp.Rational(1,2) - cdf(Chi)((2*x - 1)/2*x)"
      ],
      "metadata": {
        "id": "9jPKUVJzNal6"
      },
      "execution_count": 249,
      "outputs": []
    },
    {
      "cell_type": "code",
      "source": [
        "x = np.linspace(0,1,50)\n",
        "z = function_z(0.7)"
      ],
      "metadata": {
        "id": "-f2TooimNljI"
      },
      "execution_count": 250,
      "outputs": []
    },
    {
      "cell_type": "code",
      "source": [
        "z.evalf()"
      ],
      "metadata": {
        "colab": {
          "base_uri": "https://localhost:8080/",
          "height": 37
        },
        "id": "jsLb-9ZkQSyg",
        "outputId": "1a9120df-8064-4a5d-b9e8-6debd91bfe64"
      },
      "execution_count": 251,
      "outputs": [
        {
          "output_type": "execute_result",
          "data": {
            "text/plain": [
              "0.134342005465961"
            ],
            "text/latex": "$\\displaystyle 0.134342005465961$"
          },
          "metadata": {},
          "execution_count": 251
        }
      ]
    },
    {
      "cell_type": "code",
      "source": [
        ".5 - cdf(Chi)(f.subs(mu,0.7)).evalf()"
      ],
      "metadata": {
        "colab": {
          "base_uri": "https://localhost:8080/",
          "height": 37
        },
        "id": "9AkeJOrSPSVc",
        "outputId": "59e3b9ab-9250-4dd7-ef38-2d3a2fc5fabc"
      },
      "execution_count": 252,
      "outputs": [
        {
          "output_type": "execute_result",
          "data": {
            "text/plain": [
              "0.134342005465961"
            ],
            "text/latex": "$\\displaystyle 0.134342005465961$"
          },
          "metadata": {},
          "execution_count": 252
        }
      ]
    },
    {
      "cell_type": "code",
      "source": [
        "def function_1(mu):\n",
        "  return (2*mu - 1)/2*mu\n",
        "\n",
        "def function_2(mu,p):\n",
        "  return (0.5 - (p*mu + (1-mu)*(1-p)))/(1-(p*mu + (1-mu)*(1-p)))\n"
      ],
      "metadata": {
        "id": "h8fhzDg7U7Oj"
      },
      "execution_count": 253,
      "outputs": []
    },
    {
      "cell_type": "code",
      "source": [
        "function_2(.5,.5)"
      ],
      "metadata": {
        "colab": {
          "base_uri": "https://localhost:8080/"
        },
        "id": "pidBxXXI8Wdk",
        "outputId": "a9fa1683-319c-46fe-ca2c-5d61cdb583ec"
      },
      "execution_count": 254,
      "outputs": [
        {
          "output_type": "execute_result",
          "data": {
            "text/plain": [
              "0.0"
            ]
          },
          "metadata": {},
          "execution_count": 254
        }
      ]
    },
    {
      "cell_type": "code",
      "source": [
        "fig, ax = plt.subplots(1, 1)\n",
        "\n",
        "a, b = 2, 8\n",
        "\n",
        "x = np.linspace(beta.ppf(0.01, a, b), beta.ppf(0.99, a, b), 100)\n",
        "ax.plot(y, beta.cdf(function_1(y), a, b),\n",
        "       'b-', lw=2, alpha=0.6, label='beta cdf')"
      ],
      "metadata": {
        "colab": {
          "base_uri": "https://localhost:8080/",
          "height": 282
        },
        "id": "jbX0x3Wl5_yw",
        "outputId": "8ee87132-940f-4462-b191-342b17ccbebf"
      },
      "execution_count": 259,
      "outputs": [
        {
          "output_type": "execute_result",
          "data": {
            "text/plain": [
              "[<matplotlib.lines.Line2D at 0x7f438c2692d0>]"
            ]
          },
          "metadata": {},
          "execution_count": 259
        },
        {
          "output_type": "display_data",
          "data": {
            "text/plain": [
              "<Figure size 432x288 with 1 Axes>"
            ],
            "image/png": "[encoded data removed]"
          },
          "metadata": {
            "needs_background": "light"
          }
        }
      ]
    },
    {
      "cell_type": "code",
      "source": [
        "x = np.linspace(0.01,.99,100)\n",
        "y = np.linspace(0.01,.99,100)\n",
        "X, Y = np.meshgrid(x,y)\n",
        "z = function_2(X,Y)\n",
        "Z = beta.cdf(function_2(X,Y), a, b)"
      ],
      "metadata": {
        "id": "LlW8maEE5Rzh"
      },
      "execution_count": 256,
      "outputs": []
    },
    {
      "cell_type": "code",
      "source": [
        "plt.contourf(X,Y,Z, levels=50, cmap='plasma')\n",
        "plt.colorbar(label='Probability being elected')\n",
        "plt.xlabel('Mu')\n",
        "plt.ylabel('p')"
      ],
      "metadata": {
        "colab": {
          "base_uri": "https://localhost:8080/",
          "height": 296
        },
        "id": "bwE90ITm7eec",
        "outputId": "cde96160-4431-4f67-eda9-d26e23818cc0"
      },
      "execution_count": 258,
      "outputs": [
        {
          "output_type": "execute_result",
          "data": {
            "text/plain": [
              "Text(0, 0.5, 'p')"
            ]
          },
          "metadata": {},
          "execution_count": 258
        },
        {
          "output_type": "display_data",
          "data": {
            "text/plain": [
              "<Figure size 432x288 with 2 Axes>"
            ],
            "image/png": "[encoded data removed]"
          },
          "metadata": {
            "needs_background": "light"
          }
        }
      ]
    },
    {
      "cell_type": "code",
      "source": [
        "plt.contourf(X,Y,Z, levels=10)\n",
        "plt.colorbar(label='Probability being elected')\n",
        "plt.xlabel('Mu')\n",
        "plt.ylabel('p')"
      ],
      "metadata": {
        "colab": {
          "base_uri": "https://localhost:8080/",
          "height": 300
        },
        "id": "15MynS1q-ZGc",
        "outputId": "1b717c98-f90c-40d3-a4aa-90c8e68b0588"
      },
      "execution_count": 262,
      "outputs": [
        {
          "output_type": "execute_result",
          "data": {
            "text/plain": [
              "Text(0, 0.5, 'p')"
            ]
          },
          "metadata": {},
          "execution_count": 262
        },
        {
          "output_type": "display_data",
          "data": {
            "text/plain": [
              "<Figure size 432x288 with 2 Axes>"
            ],
            "image/png": "[encoded data removed]"
          },
          "metadata": {
            "needs_background": "light"
          }
        }
      ]
    },
    {
      "cell_type": "code",
      "source": [
        "cs = plt.contour(X,Y,Z, levels=5)\n",
        "plt.clabel(cs, fontsize=8)"
      ],
      "metadata": {
        "colab": {
          "base_uri": "https://localhost:8080/",
          "height": 282
        },
        "id": "nQlsWFdu-KTf",
        "outputId": "9b9ed1e2-bc3f-4e5d-dd67-ccfb90e53566"
      },
      "execution_count": 261,
      "outputs": [
        {
          "output_type": "execute_result",
          "data": {
            "text/plain": [
              "<a list of 10 text.Text objects>"
            ]
          },
          "metadata": {},
          "execution_count": 261
        },
        {
          "output_type": "display_data",
          "data": {
            "text/plain": [
              "<Figure size 432x288 with 1 Axes>"
            ],
            "image/png": "[encoded data removed]"
          },
          "metadata": {
            "needs_background": "light"
          }
        }
      ]
    },
    {
      "cell_type": "code",
      "source": [
        "fig, ax = plt.subplots(subplot_kw={\"projection\": \"3d\"})\n",
        "ax.plot_surface(X,Y,Z, cmap='coolwarm',\n",
        "                       linewidth=0, antialiased=False)\n",
        "ax.view_init(elev=35, azim=50)"
      ],
      "metadata": {
        "colab": {
          "base_uri": "https://localhost:8080/",
          "height": 248
        },
        "id": "jYIBBOdq-qtn",
        "outputId": "60d64719-4803-4f15-dbca-a24d95ae7192"
      },
      "execution_count": 266,
      "outputs": [
        {
          "output_type": "display_data",
          "data": {
            "text/plain": [
              "<Figure size 432x288 with 1 Axes>"
            ],
            "image/png": "[encoded data removed]"
          },
          "metadata": {
            "needs_background": "light"
          }
        }
      ]
    }
  ]
}