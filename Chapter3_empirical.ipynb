{
  "nbformat": 4,
  "nbformat_minor": 0,
  "metadata": {
    "colab": {
      "provenance": [],
      "collapsed_sections": [],
      "authorship_tag": "ABX9TyMtv0eN60D82rxHcXkKTyd2",
      "include_colab_link": true
    },
    "kernelspec": {
      "name": "python3",
      "display_name": "Python 3"
    },
    "language_info": {
      "name": "python"
    }
  },
  "cells": [
    {
      "cell_type": "markdown",
      "metadata": {
        "id": "view-in-github",
        "colab_type": "text"
      },
      "source": [
        "<a href=\"https://colab.research.google.com/github/hssitja/PhD-Dissertation/blob/Chapter-3/Chapter3_empirical.ipynb\" target=\"_parent\"><img src=\"https://colab.research.google.com/assets/colab-badge.svg\" alt=\"Open In Colab\"/></a>"
      ]
    },
    {
      "cell_type": "markdown",
      "source": [
        "**Logistic Regression**"
      ],
      "metadata": {
        "id": "p4RBO9snDBzj"
      }
    },
    {
      "cell_type": "code",
      "execution_count": 174,
      "metadata": {
        "id": "mofXcd8KDH4Y"
      },
      "outputs": [],
      "source": [
        "import pandas as pd\n",
        "import numpy as np \n",
        "import os\n",
        "import seaborn as sns\n",
        "import matplotlib.pyplot as plt\n",
        "%matplotlib inline\n",
        "import math\n",
        "import scipy as sp\n",
        "import sympy as smp\n",
        "\n",
        "import statsmodels.api as sm\n",
        "# from statsmodels.miscmodels.ordinal_model import OrderedModel\n",
        "\n",
        "from sklearn.linear_model import LogisticRegression\n",
        "from sklearn.model_selection import train_test_split\n",
        "# from sklearn.preprocessing import StandardScaler\n",
        "from sklearn.metrics import classification_report\n",
        "from sklearn.metrics import confusion_matrix\n",
        "from sklearn.metrics import accuracy_score\n",
        "from sklearn.preprocessing import StandardScaler\n",
        "\n",
        "# from mord import LogisticAT"
      ]
    },
    {
      "cell_type": "code",
      "source": [
        "from google.colab import drive\n",
        "drive.mount('/content/drive')"
      ],
      "metadata": {
        "colab": {
          "base_uri": "https://localhost:8080/"
        },
        "id": "G_axI98pzDnU",
        "outputId": "e9b08853-fb95-452d-f4d9-7ee0281f22e6"
      },
      "execution_count": 175,
      "outputs": [
        {
          "output_type": "stream",
          "name": "stdout",
          "text": [
            "Drive already mounted at /content/drive; to attempt to forcibly remount, call drive.mount(\"/content/drive\", force_remount=True).\n"
          ]
        }
      ]
    },
    {
      "cell_type": "code",
      "source": [
        "folder = '/content/drive/MyDrive/3 Essay political economy COVID19/Dados/Eleitorais/'\n",
        "\n",
        "df = pd.read_csv(os.path.join(folder,'df.csv'))"
      ],
      "metadata": {
        "id": "h-257rUDDAqh"
      },
      "execution_count": 176,
      "outputs": []
    },
    {
      "cell_type": "code",
      "source": [
        "df['NPI_index'].value_counts(dropna=False)"
      ],
      "metadata": {
        "colab": {
          "base_uri": "https://localhost:8080/"
        },
        "id": "5sI9aGLAmbSB",
        "outputId": "34e97634-b40d-41fa-9ae2-a871473d200c"
      },
      "execution_count": 177,
      "outputs": [
        {
          "output_type": "execute_result",
          "data": {
            "text/plain": [
              "3.0    2867\n",
              "NaN    1599\n",
              "2.0     945\n",
              "1.0      84\n",
              "0.0       3\n",
              "Name: NPI_index, dtype: int64"
            ]
          },
          "metadata": {},
          "execution_count": 177
        }
      ]
    },
    {
      "cell_type": "code",
      "source": [
        "espectro = pd.get_dummies(df[['ELEITO_Espectro','N_ELEITO_espectro','INCUMBENTE_Espectro','N_ELEITO_2016_Espectro']])"
      ],
      "metadata": {
        "id": "SZUa0Zp_457G"
      },
      "execution_count": 178,
      "outputs": []
    },
    {
      "cell_type": "code",
      "source": [
        "df = pd.concat([df,espectro],axis=1)"
      ],
      "metadata": {
        "id": "XilOLi-r5GG8"
      },
      "execution_count": 179,
      "outputs": []
    },
    {
      "cell_type": "code",
      "source": [
        "df.columns"
      ],
      "metadata": {
        "colab": {
          "base_uri": "https://localhost:8080/"
        },
        "id": "QuMp_oWizKtO",
        "outputId": "ca5764ee-3c5b-4682-a11a-bc6bab937a65"
      },
      "execution_count": 180,
      "outputs": [
        {
          "output_type": "execute_result",
          "data": {
            "text/plain": [
              "Index(['codigo_ibge', 'codigo_tse',\n",
              "       'Q1. Cordon Sanitaire (monitoring of entrance and exit of people in the municipality)',\n",
              "       'Q1. Start date ',\n",
              "       'Q2. Restrictive measures to avoid circulation/ agglomeration of people',\n",
              "       'Q2. Start date ',\n",
              "       'Q3. Measures of social isolation, allowing ONLY essential services',\n",
              "       'Q3. Start date ', 'Q4. Compulsory use of face covers',\n",
              "       'Q4. Start date ',\n",
              "       'Q5. Were any measures implemented to reduce the offer of public transportation?',\n",
              "       'Q5. What was the percentage of reduction?', 'Q5. Start date ',\n",
              "       'Q6. Were measures of restriction and social isolation eased?',\n",
              "       'Q6. Start date ', 'nome_municipio', 'capital', 'FERNANDO HADDAD',\n",
              "       'JAIR BOLSONARO', 'Haddad_share', 'Bolsonaro_share',\n",
              "       'ELEITO_NM_URNA_CANDIDATO', 'ELEITO_NM_CANDIDATO',\n",
              "       'ELEITO_SQ_CANDIDATO', 'ELEITO_ST_REELEICAO', 'ELEITO_SG_PARTIDO',\n",
              "       'ELEITO_Espectro', 'ELEITO_QT_VOTOS_NOMINAIS', 'ELEITO_PERCENTUAL',\n",
              "       'N_ELEITO_NM_URNA_CANDIDATO', 'N_ELEITO_NM_CANDIDATO',\n",
              "       'N_ELEITO_SQ_CANDIDATO', 'N_ELEITO_ST_REELEICAO', 'N_ELEITO_SG_PARTIDO',\n",
              "       'N_ELEITO_espectro', 'N_ELEITO_QT_VOTOS_NOMINAIS',\n",
              "       'N_ELEITO_PERCENTUAL', 'INCUMBENTE_NM_URNA_CANDIDATO',\n",
              "       'INCUMBENTE_NM_CANDIDATO', 'INCUMBENTE_SQ_CANDIDATO',\n",
              "       'INCUMBENTE_ST_REELEICAO', 'INCUMBENTE_SG_PARTIDO',\n",
              "       'INCUMBENTE_Espectro', 'INCUMBENTE_QT_VOTOS_NOMINAIS',\n",
              "       'INCUMBENTE_PERCENTUAL', 'INCUMBENTE_DS_SIT_TOT_TURNO',\n",
              "       'INCUMBENTE_CANDIDATO_REELEICAO', 'INCUMBENTE_REELEITO',\n",
              "       'N_ELEITO_2016_NM_URNA_CANDIDATO', 'N_ELEITO_2016_NM_CANDIDATO',\n",
              "       'N_ELEITO_2016_SQ_CANDIDATO', 'N_ELEITO_2016_ST_REELEICAO',\n",
              "       'N_ELEITO_2016_SG_PARTIDO', 'N_ELEITO_2016_Espectro',\n",
              "       'N_ELEITO_2016_QT_VOTOS_NOMINAIS', 'N_ELEITO_2016_PERCENTUAL',\n",
              "       'N_ELEITO_2016_DS_SIT_TOT_TURNO', 'MARGIN_VICTORY', 'NPI_index',\n",
              "       'ELEITO_Espectro_centro', 'ELEITO_Espectro_direita',\n",
              "       'ELEITO_Espectro_esquerda', 'N_ELEITO_espectro_centro',\n",
              "       'N_ELEITO_espectro_direita', 'N_ELEITO_espectro_esquerda',\n",
              "       'INCUMBENTE_Espectro_centro', 'INCUMBENTE_Espectro_direita',\n",
              "       'INCUMBENTE_Espectro_esquerda', 'N_ELEITO_2016_Espectro_centro',\n",
              "       'N_ELEITO_2016_Espectro_direita', 'N_ELEITO_2016_Espectro_esquerda'],\n",
              "      dtype='object')"
            ]
          },
          "metadata": {},
          "execution_count": 180
        }
      ]
    },
    {
      "cell_type": "markdown",
      "source": [
        "Model 1 - Logit, y = 'Q3. Measures of social isolation, allowing ONLY essential services'"
      ],
      "metadata": {
        "id": "XhkGYRo2u_s2"
      }
    },
    {
      "cell_type": "code",
      "source": [
        "model1 = df[['Q3. Measures of social isolation, allowing ONLY essential services', 'Bolsonaro_share',\\\n",
        "             'INCUMBENTE_Espectro_direita','INCUMBENTE_Espectro_esquerda','INCUMBENTE_CANDIDATO_REELEICAO']]"
      ],
      "metadata": {
        "id": "c8_njZLJ3bBe"
      },
      "execution_count": 181,
      "outputs": []
    },
    {
      "cell_type": "code",
      "source": [
        "model1['direita_candidato'] = model1['INCUMBENTE_Espectro_direita']*model1['INCUMBENTE_CANDIDATO_REELEICAO']\n",
        "model1['esquerda_candidato'] = model1['INCUMBENTE_Espectro_esquerda']*model1['INCUMBENTE_CANDIDATO_REELEICAO']\n",
        "\n",
        "model1 = model1.dropna()"
      ],
      "metadata": {
        "colab": {
          "base_uri": "https://localhost:8080/"
        },
        "id": "Y1YxRQ1t92V6",
        "outputId": "e593b26f-90f2-448c-e5b6-e5f70816f80e"
      },
      "execution_count": 182,
      "outputs": [
        {
          "output_type": "stream",
          "name": "stderr",
          "text": [
            "/usr/local/lib/python3.7/dist-packages/ipykernel_launcher.py:1: SettingWithCopyWarning: \n",
            "A value is trying to be set on a copy of a slice from a DataFrame.\n",
            "Try using .loc[row_indexer,col_indexer] = value instead\n",
            "\n",
            "See the caveats in the documentation: https://pandas.pydata.org/pandas-docs/stable/user_guide/indexing.html#returning-a-view-versus-a-copy\n",
            "  \"\"\"Entry point for launching an IPython kernel.\n",
            "/usr/local/lib/python3.7/dist-packages/ipykernel_launcher.py:2: SettingWithCopyWarning: \n",
            "A value is trying to be set on a copy of a slice from a DataFrame.\n",
            "Try using .loc[row_indexer,col_indexer] = value instead\n",
            "\n",
            "See the caveats in the documentation: https://pandas.pydata.org/pandas-docs/stable/user_guide/indexing.html#returning-a-view-versus-a-copy\n",
            "  \n"
          ]
        }
      ]
    },
    {
      "cell_type": "code",
      "source": [
        "model1.info()"
      ],
      "metadata": {
        "colab": {
          "base_uri": "https://localhost:8080/"
        },
        "id": "F5Z0AeZR72hF",
        "outputId": "efec14ef-560f-4864-de3e-c2f5fb70ec84"
      },
      "execution_count": 183,
      "outputs": [
        {
          "output_type": "stream",
          "name": "stdout",
          "text": [
            "<class 'pandas.core.frame.DataFrame'>\n",
            "Int64Index: 3910 entries, 0 to 5497\n",
            "Data columns (total 7 columns):\n",
            " #   Column                                                              Non-Null Count  Dtype  \n",
            "---  ------                                                              --------------  -----  \n",
            " 0   Q3. Measures of social isolation, allowing ONLY essential services  3910 non-null   float64\n",
            " 1   Bolsonaro_share                                                     3910 non-null   float64\n",
            " 2   INCUMBENTE_Espectro_direita                                         3910 non-null   uint8  \n",
            " 3   INCUMBENTE_Espectro_esquerda                                        3910 non-null   uint8  \n",
            " 4   INCUMBENTE_CANDIDATO_REELEICAO                                      3910 non-null   int64  \n",
            " 5   direita_candidato                                                   3910 non-null   int64  \n",
            " 6   esquerda_candidato                                                  3910 non-null   int64  \n",
            "dtypes: float64(2), int64(3), uint8(2)\n",
            "memory usage: 190.9 KB\n"
          ]
        }
      ]
    },
    {
      "cell_type": "code",
      "source": [
        "y1 = model1['Q3. Measures of social isolation, allowing ONLY essential services']\n",
        "X1 = model1.drop('Q3. Measures of social isolation, allowing ONLY essential services', axis=1)"
      ],
      "metadata": {
        "id": "RO4vZIMfHtXR"
      },
      "execution_count": 184,
      "outputs": []
    },
    {
      "cell_type": "code",
      "source": [
        "logit = sm.Logit(y1,X1)\n",
        "result = logit.fit()\n",
        "print(result.summary2())"
      ],
      "metadata": {
        "colab": {
          "base_uri": "https://localhost:8080/"
        },
        "id": "_qnBPlD2-zQN",
        "outputId": "cc257c34-2f95-4f26-de10-c0dbda41ee1c"
      },
      "execution_count": 185,
      "outputs": [
        {
          "output_type": "stream",
          "name": "stdout",
          "text": [
            "Optimization terminated successfully.\n",
            "         Current function value: 0.551504\n",
            "         Iterations 5\n",
            "                                                  Results: Logit\n",
            "==================================================================================================================\n",
            "Model:              Logit                                                              Pseudo R-squared: -0.033   \n",
            "Dependent Variable: Q3. Measures of social isolation, allowing ONLY essential services AIC:              4324.7605\n",
            "Date:               2022-10-20 04:36                                                   BIC:              4362.3882\n",
            "No. Observations:   3910                                                               Log-Likelihood:   -2156.4  \n",
            "Df Model:           5                                                                  LL-Null:          -2087.4  \n",
            "Df Residuals:       3904                                                               LLR p-value:      1.0000   \n",
            "Converged:          1.0000                                                             Scale:            1.0000   \n",
            "No. Iterations:     5.0000                                                                                        \n",
            "-------------------------------------------------------------------------------------------------------------------------\n",
            "                                        Coef.         Std.Err.           z           P>|z|          [0.025         0.975]\n",
            "-------------------------------------------------------------------------------------------------------------------------\n",
            "Bolsonaro_share                         0.9256          0.1091         8.4817        0.0000         0.7117         1.1394\n",
            "INCUMBENTE_Espectro_direita             0.9142          0.1019         8.9729        0.0000         0.7145         1.1139\n",
            "INCUMBENTE_Espectro_esquerda            0.7527          0.1166         6.4528        0.0000         0.5241         0.9813\n",
            "INCUMBENTE_CANDIDATO_REELEICAO          0.6643          0.1058         6.2797        0.0000         0.4570         0.8716\n",
            "direita_candidato                      -0.8182          0.1614        -5.0704        0.0000        -1.1345        -0.5019\n",
            "esquerda_candidato                     -0.5336          0.1909        -2.7950        0.0052        -0.9077        -0.1594\n",
            "==================================================================================================================\n",
            "\n"
          ]
        }
      ]
    },
    {
      "cell_type": "markdown",
      "source": [
        "Model 2 (probit) and 3 (logit) - Ordinal regression, y = 'NPI_index'"
      ],
      "metadata": {
        "id": "nPDEahwXvSDB"
      }
    },
    {
      "cell_type": "code",
      "source": [
        "model2 = df[['NPI_index', 'Bolsonaro_share',\\\n",
        "             'INCUMBENTE_Espectro_direita','INCUMBENTE_Espectro_esquerda','INCUMBENTE_CANDIDATO_REELEICAO']]\n",
        "\n",
        "model2['direita_candidato'] = model2['INCUMBENTE_Espectro_direita']*model2['INCUMBENTE_CANDIDATO_REELEICAO']\n",
        "model2['esquerda_candidato'] = model2['INCUMBENTE_Espectro_esquerda']*model2['INCUMBENTE_CANDIDATO_REELEICAO']\n",
        "\n",
        "model2 = model2.dropna()"
      ],
      "metadata": {
        "colab": {
          "base_uri": "https://localhost:8080/"
        },
        "id": "yI0yg4PWIUxU",
        "outputId": "b5a0a236-a0de-49de-9164-8025f4d32097"
      },
      "execution_count": 186,
      "outputs": [
        {
          "output_type": "stream",
          "name": "stderr",
          "text": [
            "/usr/local/lib/python3.7/dist-packages/ipykernel_launcher.py:4: SettingWithCopyWarning: \n",
            "A value is trying to be set on a copy of a slice from a DataFrame.\n",
            "Try using .loc[row_indexer,col_indexer] = value instead\n",
            "\n",
            "See the caveats in the documentation: https://pandas.pydata.org/pandas-docs/stable/user_guide/indexing.html#returning-a-view-versus-a-copy\n",
            "  after removing the cwd from sys.path.\n",
            "/usr/local/lib/python3.7/dist-packages/ipykernel_launcher.py:5: SettingWithCopyWarning: \n",
            "A value is trying to be set on a copy of a slice from a DataFrame.\n",
            "Try using .loc[row_indexer,col_indexer] = value instead\n",
            "\n",
            "See the caveats in the documentation: https://pandas.pydata.org/pandas-docs/stable/user_guide/indexing.html#returning-a-view-versus-a-copy\n",
            "  \"\"\"\n"
          ]
        }
      ]
    },
    {
      "cell_type": "code",
      "source": [
        "model2['NPI_index'].value_counts()"
      ],
      "metadata": {
        "colab": {
          "base_uri": "https://localhost:8080/"
        },
        "id": "8awiqosjmAU8",
        "outputId": "1a28a2c5-ab9a-44c7-8b27-0b83b9ee9315"
      },
      "execution_count": 187,
      "outputs": [
        {
          "output_type": "execute_result",
          "data": {
            "text/plain": [
              "3.0    2867\n",
              "2.0     945\n",
              "1.0      84\n",
              "0.0       3\n",
              "Name: NPI_index, dtype: int64"
            ]
          },
          "metadata": {},
          "execution_count": 187
        }
      ]
    },
    {
      "cell_type": "code",
      "source": [
        "model2.info()"
      ],
      "metadata": {
        "colab": {
          "base_uri": "https://localhost:8080/"
        },
        "id": "ZCfDtSg7TKVd",
        "outputId": "64bde581-0a0e-4957-9646-ec6e501fde09"
      },
      "execution_count": 188,
      "outputs": [
        {
          "output_type": "stream",
          "name": "stdout",
          "text": [
            "<class 'pandas.core.frame.DataFrame'>\n",
            "Int64Index: 3899 entries, 0 to 5497\n",
            "Data columns (total 7 columns):\n",
            " #   Column                          Non-Null Count  Dtype  \n",
            "---  ------                          --------------  -----  \n",
            " 0   NPI_index                       3899 non-null   float64\n",
            " 1   Bolsonaro_share                 3899 non-null   float64\n",
            " 2   INCUMBENTE_Espectro_direita     3899 non-null   uint8  \n",
            " 3   INCUMBENTE_Espectro_esquerda    3899 non-null   uint8  \n",
            " 4   INCUMBENTE_CANDIDATO_REELEICAO  3899 non-null   int64  \n",
            " 5   direita_candidato               3899 non-null   int64  \n",
            " 6   esquerda_candidato              3899 non-null   int64  \n",
            "dtypes: float64(2), int64(3), uint8(2)\n",
            "memory usage: 190.4 KB\n"
          ]
        }
      ]
    },
    {
      "cell_type": "code",
      "source": [
        "model2['NPI_index'] = model2['NPI_index'].astype(pd.CategoricalDtype(categories=[0,1,2,3],ordered=True))"
      ],
      "metadata": {
        "id": "DJ5f53jjVeKz"
      },
      "execution_count": 189,
      "outputs": []
    },
    {
      "cell_type": "code",
      "source": [
        "model2['NPI_index'].dtype"
      ],
      "metadata": {
        "colab": {
          "base_uri": "https://localhost:8080/"
        },
        "id": "u6tLJTiUV8KH",
        "outputId": "2a8ad156-2387-49da-8a89-6a6a6a75f9be"
      },
      "execution_count": 190,
      "outputs": [
        {
          "output_type": "execute_result",
          "data": {
            "text/plain": [
              "CategoricalDtype(categories=[0, 1, 2, 3], ordered=True)"
            ]
          },
          "metadata": {},
          "execution_count": 190
        }
      ]
    },
    {
      "cell_type": "code",
      "source": [
        "plt.subplot(1, 3, 1)\n",
        "model2.NPI_index.hist()\n",
        "plt.title('All cities')\n",
        "plt.xlabel('NPI_index')\n",
        "plt.ylabel('Frequency')\n",
        "\n",
        "plt.subplot(1, 3, 2)\n",
        "model2[model2['INCUMBENTE_CANDIDATO_REELEICAO'] == 1].NPI_index.hist()\n",
        "plt.title('Trying reelection')\n",
        "plt.xlabel('NPI_index')\n",
        "plt.ylabel('Frequency')\n",
        "\n",
        "plt.subplot(1, 3, 3)\n",
        "model2[model2['direita_candidato'] == 1].NPI_index.hist()\n",
        "plt.title('Right wing mayor')\n",
        "plt.xlabel('NPI_index')\n",
        "plt.ylabel('Frequency')\n",
        "\n",
        "plt.tight_layout()\n"
      ],
      "metadata": {
        "colab": {
          "base_uri": "https://localhost:8080/",
          "height": 297
        },
        "id": "nttqn1FVvk6G",
        "outputId": "6370239e-9402-41d8-a81d-870b9ab72f70"
      },
      "execution_count": 191,
      "outputs": [
        {
          "output_type": "display_data",
          "data": {
            "text/plain": [
              "<Figure size 432x288 with 3 Axes>"
            ],
            "image/png": "[encoded data removed]"
          },
          "metadata": {
            "needs_background": "light"
          }
        }
      ]
    },
    {
      "cell_type": "code",
      "source": [
        "y2 = model2['NPI_index']\n",
        "X2 = model2.drop('NPI_index', axis=1)"
      ],
      "metadata": {
        "id": "4yNtb-E9a0C4"
      },
      "execution_count": 192,
      "outputs": []
    },
    {
      "cell_type": "code",
      "source": [
        "#ordered_probit = OrderedModel(y2, X2, distr='probit')\n",
        "#result2 = ordered_probit.fit(method='bfgs')\n",
        "#print(result2.summary())"
      ],
      "metadata": {
        "id": "9eujRZ_Cjkmy"
      },
      "execution_count": 193,
      "outputs": []
    },
    {
      "cell_type": "code",
      "source": [
        "#ordered_logit = OrderedModel(y2, X2, distr='logit')\n",
        "#result3 = ordered_logit.fit(method='bfgs', disp=False)\n",
        "#print(result3.summary())"
      ],
      "metadata": {
        "id": "XvkoK4XIdZRR"
      },
      "execution_count": 194,
      "outputs": []
    },
    {
      "cell_type": "markdown",
      "source": [
        "**Regression Discontinuity Design**"
      ],
      "metadata": {
        "id": "lSNPGhBdqiR5"
      }
    },
    {
      "cell_type": "code",
      "source": [
        "# Using R - %%R to make the whole cell run in R\n",
        "%load_ext rpy2.ipython\n",
        "\n",
        "from rpy2.robjects import r, pandas2ri\n",
        "import rpy2.robjects as ro\n",
        "from rpy2.robjects.conversion import localconverter\n",
        "import rpy2.robjects.packages as rpackages\n",
        "from rpy2.robjects import globalenv\n",
        "# from rpy2.robjects.vectors import StrVector\n",
        "\n",
        "\n",
        "pandas2ri.activate()"
      ],
      "metadata": {
        "colab": {
          "base_uri": "https://localhost:8080/"
        },
        "id": "mETephSYqnFK",
        "outputId": "578facd0-252f-488c-b7c9-b67863702b8e"
      },
      "execution_count": 195,
      "outputs": [
        {
          "output_type": "stream",
          "name": "stdout",
          "text": [
            "The rpy2.ipython extension is already loaded. To reload it, use:\n",
            "  %reload_ext rpy2.ipython\n"
          ]
        }
      ]
    },
    {
      "cell_type": "code",
      "source": [
        "%%R\n",
        "install.packages('rdrobust')\n",
        "install.packages('rddensity')\n",
        "install.packages('huxtable')"
      ],
      "metadata": {
        "id": "am0lUYNn17k4"
      },
      "execution_count": null,
      "outputs": []
    },
    {
      "cell_type": "code",
      "source": [
        "%%R\n",
        "library(tidyverse)\n",
        "library(broom)\n",
        "library(rdrobust)\n",
        "library(rddensity)\n",
        "library(huxtable)\n"
      ],
      "metadata": {
        "id": "U2j6Ss_-jxiE"
      },
      "execution_count": 198,
      "outputs": []
    },
    {
      "cell_type": "code",
      "source": [
        "model3 = df[['MARGIN_VICTORY','INCUMBENTE_ST_REELEICAO','N_ELEITO_2016_ST_REELEICAO',\"NPI_index\", 'INCUMBENTE_Espectro_direita','INCUMBENTE_Espectro_esquerda',\"INCUMBENTE_Espectro_centro\"]].dropna(subset=['MARGIN_VICTORY'])"
      ],
      "metadata": {
        "id": "395hcg8YULcB"
      },
      "execution_count": 199,
      "outputs": []
    },
    {
      "cell_type": "code",
      "source": [
        "model3 = model3.drop(model3[(model3.INCUMBENTE_ST_REELEICAO != 'S') & (model3.N_ELEITO_2016_ST_REELEICAO != 'S')].index)\n",
        "model3 = model3.drop(model3[(model3.INCUMBENTE_ST_REELEICAO == 'S') & (model3.N_ELEITO_2016_ST_REELEICAO == 'S')].index)"
      ],
      "metadata": {
        "id": "Gi1GYIdY8dI8"
      },
      "execution_count": 200,
      "outputs": []
    },
    {
      "cell_type": "code",
      "source": [
        "len(model3)"
      ],
      "metadata": {
        "id": "TuMhnrFMjOkv",
        "outputId": "0336ae73-3d00-4cce-dec0-f133aeccd068",
        "colab": {
          "base_uri": "https://localhost:8080/"
        }
      },
      "execution_count": 201,
      "outputs": [
        {
          "output_type": "execute_result",
          "data": {
            "text/plain": [
              "2399"
            ]
          },
          "metadata": {},
          "execution_count": 201
        }
      ]
    },
    {
      "cell_type": "code",
      "source": [
        "model3['INCUMBENTE_ST_REELEICAO'].value_counts()"
      ],
      "metadata": {
        "colab": {
          "base_uri": "https://localhost:8080/"
        },
        "id": "5zi5s115mBLj",
        "outputId": "45c9bbd5-2cf2-4457-c2d1-f3c7f8a97678"
      },
      "execution_count": 202,
      "outputs": [
        {
          "output_type": "execute_result",
          "data": {
            "text/plain": [
              "S    1223\n",
              "N    1176\n",
              "Name: INCUMBENTE_ST_REELEICAO, dtype: int64"
            ]
          },
          "metadata": {},
          "execution_count": 202
        }
      ]
    },
    {
      "cell_type": "code",
      "source": [
        "r_df = ro.conversion.py2rpy(model3)\n",
        "globalenv['r_df'] = r_df"
      ],
      "metadata": {
        "id": "K8LcLk8WWmTc"
      },
      "execution_count": 203,
      "outputs": []
    },
    {
      "cell_type": "code",
      "source": [
        "%%R\n",
        "result_rdd <- rdplotdensity(rdd = rddensity(X = r_df$MARGIN_VICTORY, c = 0), X = r_df$MARGIN_VICTORY)"
      ],
      "metadata": {
        "colab": {
          "base_uri": "https://localhost:8080/",
          "height": 497
        },
        "id": "72rY76305FE7",
        "outputId": "2be70add-16b3-4668-d466-4ef563d2947f"
      },
      "execution_count": 206,
      "outputs": [
        {
          "output_type": "display_data",
          "data": {
            "image/png": "[encoded data removed]"
          },
          "metadata": {}
        }
      ]
    },
    {
      "cell_type": "code",
      "source": [
        "%%R\n",
        "\n",
        "ggplot(r_df, aes(x = MARGIN_VICTORY, y = NPI_index, color = INCUMBENTE_ST_REELEICAO)) +\n",
        "  # geom_point(size = 0.5, alpha = 0.5) + \n",
        "  # Add a line based on a linear model for the incumbent not reelected\n",
        "  geom_smooth(data = filter(r_df, MARGIN_VICTORY < 0), method = \"glm\") +\n",
        "  # Add a line based on a linear model for the reelected incumbent\n",
        "  geom_smooth(data = filter(r_df, MARGIN_VICTORY >= 0), method = \"glm\") +\n",
        "  geom_vline(xintercept = 0) +\n",
        "  labs(x = \"Margin of victory in 2016\", y = \"NPIs adopted\", color = \"reelected in 2016\")"
      ],
      "metadata": {
        "id": "86sAX9iChkhy",
        "outputId": "cb026f1e-0049-4977-b97e-6459bd483246",
        "colab": {
          "base_uri": "https://localhost:8080/",
          "height": 566
        }
      },
      "execution_count": 208,
      "outputs": [
        {
          "output_type": "stream",
          "name": "stderr",
          "text": [
            "WARNING:rpy2.rinterface_lib.callbacks:R[write to console]: `geom_smooth()` using formula 'y ~ x'\n",
            "\n",
            "WARNING:rpy2.rinterface_lib.callbacks:R[write to console]: `geom_smooth()` using formula 'y ~ x'\n",
            "\n"
          ]
        },
        {
          "output_type": "display_data",
          "data": {
            "image/png": "[encoded data removed]"
          },
          "metadata": {}
        }
      ]
    },
    {
      "cell_type": "code",
      "source": [],
      "metadata": {
        "id": "hUi3P0uPlXzX",
        "outputId": "996989e5-307e-440c-8e9d-51cc01738b65",
        "colab": {
          "base_uri": "https://localhost:8080/"
        }
      },
      "execution_count": 211,
      "outputs": [
        {
          "output_type": "execute_result",
          "data": {
            "text/plain": [
              "1176"
            ]
          },
          "metadata": {},
          "execution_count": 211
        }
      ]
    }
  ]
}