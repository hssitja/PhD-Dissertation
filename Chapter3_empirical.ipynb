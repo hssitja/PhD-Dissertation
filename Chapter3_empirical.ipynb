{
  "nbformat": 4,
  "nbformat_minor": 0,
  "metadata": {
    "colab": {
      "provenance": [],
      "collapsed_sections": [],
      "authorship_tag": "ABX9TyOUKBrz95WtVBUXO3kM0PUO",
      "include_colab_link": true
    },
    "kernelspec": {
      "name": "python3",
      "display_name": "Python 3"
    },
    "language_info": {
      "name": "python"
    }
  },
  "cells": [
    {
      "cell_type": "markdown",
      "metadata": {
        "id": "view-in-github",
        "colab_type": "text"
      },
      "source": [
        "<a href=\"https://colab.research.google.com/github/hssitja/PhD-Dissertation/blob/Chapter-3/Chapter3_empirical.ipynb\" target=\"_parent\"><img src=\"https://colab.research.google.com/assets/colab-badge.svg\" alt=\"Open In Colab\"/></a>"
      ]
    },
    {
      "cell_type": "markdown",
      "source": [
        "**Logistic Regression**"
      ],
      "metadata": {
        "id": "p4RBO9snDBzj"
      }
    },
    {
      "cell_type": "code",
      "execution_count": 449,
      "metadata": {
        "id": "mofXcd8KDH4Y"
      },
      "outputs": [],
      "source": [
        "import pandas as pd\n",
        "import numpy as np \n",
        "import os\n",
        "import seaborn as sns\n",
        "import matplotlib.pyplot as plt\n",
        "%matplotlib inline\n",
        "import math\n",
        "import scipy as sp\n",
        "import sympy as smp\n",
        "\n",
        "import statsmodels.api as sm\n",
        "# from statsmodels.miscmodels.ordinal_model import OrderedModel\n",
        "\n",
        "from sklearn.linear_model import LogisticRegression\n",
        "from sklearn.model_selection import train_test_split\n",
        "# from sklearn.preprocessing import StandardScaler\n",
        "from sklearn.metrics import classification_report\n",
        "from sklearn.metrics import confusion_matrix\n",
        "from sklearn.metrics import accuracy_score\n",
        "from sklearn.preprocessing import StandardScaler\n",
        "\n",
        "# from mord import LogisticAT"
      ]
    },
    {
      "cell_type": "code",
      "source": [
        "from google.colab import drive\n",
        "drive.mount('/content/drive')"
      ],
      "metadata": {
        "colab": {
          "base_uri": "https://localhost:8080/"
        },
        "id": "G_axI98pzDnU",
        "outputId": "6189fe68-baeb-4f57-b63d-bf46122f5032"
      },
      "execution_count": 450,
      "outputs": [
        {
          "output_type": "stream",
          "name": "stdout",
          "text": [
            "Drive already mounted at /content/drive; to attempt to forcibly remount, call drive.mount(\"/content/drive\", force_remount=True).\n"
          ]
        }
      ]
    },
    {
      "cell_type": "code",
      "source": [
        "folder = '/content/drive/MyDrive/3 Essay political economy COVID19/Dados/Eleitorais/'\n",
        "\n",
        "df = pd.read_csv(os.path.join(folder,'df.csv'))"
      ],
      "metadata": {
        "id": "h-257rUDDAqh"
      },
      "execution_count": 451,
      "outputs": []
    },
    {
      "cell_type": "code",
      "source": [
        "df['NPI_index'].value_counts(dropna=False)"
      ],
      "metadata": {
        "colab": {
          "base_uri": "https://localhost:8080/"
        },
        "id": "5sI9aGLAmbSB",
        "outputId": "38db814e-f3a2-4674-8b84-44463febe118"
      },
      "execution_count": 452,
      "outputs": [
        {
          "output_type": "execute_result",
          "data": {
            "text/plain": [
              "3.0    2867\n",
              "NaN    1599\n",
              "2.0     945\n",
              "1.0      84\n",
              "0.0       3\n",
              "Name: NPI_index, dtype: int64"
            ]
          },
          "metadata": {},
          "execution_count": 452
        }
      ]
    },
    {
      "cell_type": "code",
      "source": [
        "espectro = pd.get_dummies(df[['ELEITO_Espectro','N_ELEITO_espectro','INCUMBENTE_Espectro','N_ELEITO_2016_Espectro']])"
      ],
      "metadata": {
        "id": "SZUa0Zp_457G"
      },
      "execution_count": 453,
      "outputs": []
    },
    {
      "cell_type": "code",
      "source": [
        "df = pd.concat([df,espectro],axis=1)"
      ],
      "metadata": {
        "id": "XilOLi-r5GG8"
      },
      "execution_count": 454,
      "outputs": []
    },
    {
      "cell_type": "markdown",
      "source": [
        "Model 1 - Logit, y = 'Q3. Measures of social isolation, allowing ONLY essential services'"
      ],
      "metadata": {
        "id": "XhkGYRo2u_s2"
      }
    },
    {
      "cell_type": "code",
      "source": [
        "model1 = df[['Q3. Measures of social isolation, allowing ONLY essential services', 'Bolsonaro_share',\\\n",
        "             'INCUMBENTE_Espectro_direita','INCUMBENTE_Espectro_esquerda','INCUMBENTE_CANDIDATO_REELEICAO']]"
      ],
      "metadata": {
        "id": "c8_njZLJ3bBe"
      },
      "execution_count": 456,
      "outputs": []
    },
    {
      "cell_type": "code",
      "source": [
        "model1['direita_candidato'] = model1['INCUMBENTE_Espectro_direita']*model1['INCUMBENTE_CANDIDATO_REELEICAO']\n",
        "model1['esquerda_candidato'] = model1['INCUMBENTE_Espectro_esquerda']*model1['INCUMBENTE_CANDIDATO_REELEICAO']\n",
        "\n",
        "model1 = model1.dropna()"
      ],
      "metadata": {
        "colab": {
          "base_uri": "https://localhost:8080/"
        },
        "id": "Y1YxRQ1t92V6",
        "outputId": "a69367b9-1400-4f7b-8d31-aa6c9077ac3d"
      },
      "execution_count": 457,
      "outputs": [
        {
          "output_type": "stream",
          "name": "stderr",
          "text": [
            "/usr/local/lib/python3.7/dist-packages/ipykernel_launcher.py:1: SettingWithCopyWarning: \n",
            "A value is trying to be set on a copy of a slice from a DataFrame.\n",
            "Try using .loc[row_indexer,col_indexer] = value instead\n",
            "\n",
            "See the caveats in the documentation: https://pandas.pydata.org/pandas-docs/stable/user_guide/indexing.html#returning-a-view-versus-a-copy\n",
            "  \"\"\"Entry point for launching an IPython kernel.\n",
            "/usr/local/lib/python3.7/dist-packages/ipykernel_launcher.py:2: SettingWithCopyWarning: \n",
            "A value is trying to be set on a copy of a slice from a DataFrame.\n",
            "Try using .loc[row_indexer,col_indexer] = value instead\n",
            "\n",
            "See the caveats in the documentation: https://pandas.pydata.org/pandas-docs/stable/user_guide/indexing.html#returning-a-view-versus-a-copy\n",
            "  \n"
          ]
        }
      ]
    },
    {
      "cell_type": "code",
      "source": [
        "model1.info()"
      ],
      "metadata": {
        "colab": {
          "base_uri": "https://localhost:8080/"
        },
        "id": "F5Z0AeZR72hF",
        "outputId": "0082eaf5-6e8f-42d2-9b17-52cbec9f0a5e"
      },
      "execution_count": 458,
      "outputs": [
        {
          "output_type": "stream",
          "name": "stdout",
          "text": [
            "<class 'pandas.core.frame.DataFrame'>\n",
            "Int64Index: 3910 entries, 0 to 5497\n",
            "Data columns (total 7 columns):\n",
            " #   Column                                                              Non-Null Count  Dtype  \n",
            "---  ------                                                              --------------  -----  \n",
            " 0   Q3. Measures of social isolation, allowing ONLY essential services  3910 non-null   float64\n",
            " 1   Bolsonaro_share                                                     3910 non-null   float64\n",
            " 2   INCUMBENTE_Espectro_direita                                         3910 non-null   uint8  \n",
            " 3   INCUMBENTE_Espectro_esquerda                                        3910 non-null   uint8  \n",
            " 4   INCUMBENTE_CANDIDATO_REELEICAO                                      3910 non-null   int64  \n",
            " 5   direita_candidato                                                   3910 non-null   int64  \n",
            " 6   esquerda_candidato                                                  3910 non-null   int64  \n",
            "dtypes: float64(2), int64(3), uint8(2)\n",
            "memory usage: 190.9 KB\n"
          ]
        }
      ]
    },
    {
      "cell_type": "code",
      "source": [
        "y1 = model1['Q3. Measures of social isolation, allowing ONLY essential services']\n",
        "X1 = model1.drop('Q3. Measures of social isolation, allowing ONLY essential services', axis=1)"
      ],
      "metadata": {
        "id": "RO4vZIMfHtXR"
      },
      "execution_count": 459,
      "outputs": []
    },
    {
      "cell_type": "code",
      "source": [
        "logit = sm.Logit(y1,X1)\n",
        "result = logit.fit()\n",
        "print(result.summary2())"
      ],
      "metadata": {
        "colab": {
          "base_uri": "https://localhost:8080/"
        },
        "id": "_qnBPlD2-zQN",
        "outputId": "f7e859ff-48fd-4d65-ac13-de264e5389e7"
      },
      "execution_count": 460,
      "outputs": [
        {
          "output_type": "stream",
          "name": "stdout",
          "text": [
            "Optimization terminated successfully.\n",
            "         Current function value: 0.551504\n",
            "         Iterations 5\n",
            "                                                  Results: Logit\n",
            "==================================================================================================================\n",
            "Model:              Logit                                                              Pseudo R-squared: -0.033   \n",
            "Dependent Variable: Q3. Measures of social isolation, allowing ONLY essential services AIC:              4324.7605\n",
            "Date:               2022-10-20 05:57                                                   BIC:              4362.3882\n",
            "No. Observations:   3910                                                               Log-Likelihood:   -2156.4  \n",
            "Df Model:           5                                                                  LL-Null:          -2087.4  \n",
            "Df Residuals:       3904                                                               LLR p-value:      1.0000   \n",
            "Converged:          1.0000                                                             Scale:            1.0000   \n",
            "No. Iterations:     5.0000                                                                                        \n",
            "-------------------------------------------------------------------------------------------------------------------------\n",
            "                                        Coef.         Std.Err.           z           P>|z|          [0.025         0.975]\n",
            "-------------------------------------------------------------------------------------------------------------------------\n",
            "Bolsonaro_share                         0.9256          0.1091         8.4817        0.0000         0.7117         1.1394\n",
            "INCUMBENTE_Espectro_direita             0.9142          0.1019         8.9729        0.0000         0.7145         1.1139\n",
            "INCUMBENTE_Espectro_esquerda            0.7527          0.1166         6.4528        0.0000         0.5241         0.9813\n",
            "INCUMBENTE_CANDIDATO_REELEICAO          0.6643          0.1058         6.2797        0.0000         0.4570         0.8716\n",
            "direita_candidato                      -0.8182          0.1614        -5.0704        0.0000        -1.1345        -0.5019\n",
            "esquerda_candidato                     -0.5336          0.1909        -2.7950        0.0052        -0.9077        -0.1594\n",
            "==================================================================================================================\n",
            "\n"
          ]
        }
      ]
    },
    {
      "cell_type": "markdown",
      "source": [
        "Model 2 (probit) and 3 (logit) - Ordinal regression, y = 'NPI_index'"
      ],
      "metadata": {
        "id": "nPDEahwXvSDB"
      }
    },
    {
      "cell_type": "code",
      "source": [
        "model2 = df[['NPI_index', 'Bolsonaro_share',\\\n",
        "             'INCUMBENTE_Espectro_direita','INCUMBENTE_Espectro_esquerda','INCUMBENTE_CANDIDATO_REELEICAO']]\n",
        "\n",
        "model2['direita_candidato'] = model2['INCUMBENTE_Espectro_direita']*model2['INCUMBENTE_CANDIDATO_REELEICAO']\n",
        "model2['esquerda_candidato'] = model2['INCUMBENTE_Espectro_esquerda']*model2['INCUMBENTE_CANDIDATO_REELEICAO']\n",
        "\n",
        "model2 = model2.dropna()"
      ],
      "metadata": {
        "colab": {
          "base_uri": "https://localhost:8080/"
        },
        "id": "yI0yg4PWIUxU",
        "outputId": "a563f196-796b-4e8d-a1c1-b66222e5b312"
      },
      "execution_count": 461,
      "outputs": [
        {
          "output_type": "stream",
          "name": "stderr",
          "text": [
            "/usr/local/lib/python3.7/dist-packages/ipykernel_launcher.py:4: SettingWithCopyWarning: \n",
            "A value is trying to be set on a copy of a slice from a DataFrame.\n",
            "Try using .loc[row_indexer,col_indexer] = value instead\n",
            "\n",
            "See the caveats in the documentation: https://pandas.pydata.org/pandas-docs/stable/user_guide/indexing.html#returning-a-view-versus-a-copy\n",
            "  after removing the cwd from sys.path.\n",
            "/usr/local/lib/python3.7/dist-packages/ipykernel_launcher.py:5: SettingWithCopyWarning: \n",
            "A value is trying to be set on a copy of a slice from a DataFrame.\n",
            "Try using .loc[row_indexer,col_indexer] = value instead\n",
            "\n",
            "See the caveats in the documentation: https://pandas.pydata.org/pandas-docs/stable/user_guide/indexing.html#returning-a-view-versus-a-copy\n",
            "  \"\"\"\n"
          ]
        }
      ]
    },
    {
      "cell_type": "code",
      "source": [
        "model2['NPI_index'].value_counts()"
      ],
      "metadata": {
        "colab": {
          "base_uri": "https://localhost:8080/"
        },
        "id": "8awiqosjmAU8",
        "outputId": "f7506f97-bf3c-433d-97e3-c47b3a2c9fdb"
      },
      "execution_count": 462,
      "outputs": [
        {
          "output_type": "execute_result",
          "data": {
            "text/plain": [
              "3.0    2867\n",
              "2.0     945\n",
              "1.0      84\n",
              "0.0       3\n",
              "Name: NPI_index, dtype: int64"
            ]
          },
          "metadata": {},
          "execution_count": 462
        }
      ]
    },
    {
      "cell_type": "code",
      "source": [
        "model2.info()"
      ],
      "metadata": {
        "colab": {
          "base_uri": "https://localhost:8080/"
        },
        "id": "ZCfDtSg7TKVd",
        "outputId": "dda72864-c2aa-48fb-88db-a8a43dd383d5"
      },
      "execution_count": 463,
      "outputs": [
        {
          "output_type": "stream",
          "name": "stdout",
          "text": [
            "<class 'pandas.core.frame.DataFrame'>\n",
            "Int64Index: 3899 entries, 0 to 5497\n",
            "Data columns (total 7 columns):\n",
            " #   Column                          Non-Null Count  Dtype  \n",
            "---  ------                          --------------  -----  \n",
            " 0   NPI_index                       3899 non-null   float64\n",
            " 1   Bolsonaro_share                 3899 non-null   float64\n",
            " 2   INCUMBENTE_Espectro_direita     3899 non-null   uint8  \n",
            " 3   INCUMBENTE_Espectro_esquerda    3899 non-null   uint8  \n",
            " 4   INCUMBENTE_CANDIDATO_REELEICAO  3899 non-null   int64  \n",
            " 5   direita_candidato               3899 non-null   int64  \n",
            " 6   esquerda_candidato              3899 non-null   int64  \n",
            "dtypes: float64(2), int64(3), uint8(2)\n",
            "memory usage: 190.4 KB\n"
          ]
        }
      ]
    },
    {
      "cell_type": "code",
      "source": [
        "model2['NPI_index'] = model2['NPI_index'].astype(pd.CategoricalDtype(categories=[0,1,2,3],ordered=True))"
      ],
      "metadata": {
        "id": "DJ5f53jjVeKz"
      },
      "execution_count": 464,
      "outputs": []
    },
    {
      "cell_type": "code",
      "source": [
        "model2['NPI_index'].dtype"
      ],
      "metadata": {
        "colab": {
          "base_uri": "https://localhost:8080/"
        },
        "id": "u6tLJTiUV8KH",
        "outputId": "2f858768-666c-44dc-c414-fc9a83dab904"
      },
      "execution_count": 465,
      "outputs": [
        {
          "output_type": "execute_result",
          "data": {
            "text/plain": [
              "CategoricalDtype(categories=[0, 1, 2, 3], ordered=True)"
            ]
          },
          "metadata": {},
          "execution_count": 465
        }
      ]
    },
    {
      "cell_type": "code",
      "source": [
        "plt.subplot(1, 3, 1)\n",
        "model2.NPI_index.hist()\n",
        "plt.title('All cities')\n",
        "plt.xlabel('NPI_index')\n",
        "plt.ylabel('Frequency')\n",
        "\n",
        "plt.subplot(1, 3, 2)\n",
        "model2[model2['INCUMBENTE_CANDIDATO_REELEICAO'] == 1].NPI_index.hist()\n",
        "plt.title('Trying reelection')\n",
        "plt.xlabel('NPI_index')\n",
        "plt.ylabel('Frequency')\n",
        "\n",
        "plt.subplot(1, 3, 3)\n",
        "model2[model2['direita_candidato'] == 1].NPI_index.hist()\n",
        "plt.title('Right wing mayor')\n",
        "plt.xlabel('NPI_index')\n",
        "plt.ylabel('Frequency')\n",
        "\n",
        "plt.tight_layout()\n"
      ],
      "metadata": {
        "colab": {
          "base_uri": "https://localhost:8080/",
          "height": 297
        },
        "id": "nttqn1FVvk6G",
        "outputId": "b6c6f72e-5235-4be9-c121-b9aea27d1d51"
      },
      "execution_count": 466,
      "outputs": [
        {
          "output_type": "display_data",
          "data": {
            "text/plain": [
              "<Figure size 432x288 with 3 Axes>"
            ],
            "image/png": "[encoded data removed]"
          },
          "metadata": {
            "needs_background": "light"
          }
        }
      ]
    },
    {
      "cell_type": "code",
      "source": [
        "y2 = model2['NPI_index']\n",
        "X2 = model2.drop('NPI_index', axis=1)"
      ],
      "metadata": {
        "id": "4yNtb-E9a0C4"
      },
      "execution_count": 467,
      "outputs": []
    },
    {
      "cell_type": "code",
      "source": [
        "#ordered_probit = OrderedModel(y2, X2, distr='probit')\n",
        "#result2 = ordered_probit.fit(method='bfgs')\n",
        "#print(result2.summary())"
      ],
      "metadata": {
        "id": "9eujRZ_Cjkmy"
      },
      "execution_count": 468,
      "outputs": []
    },
    {
      "cell_type": "code",
      "source": [
        "#ordered_logit = OrderedModel(y2, X2, distr='logit')\n",
        "#result3 = ordered_logit.fit(method='bfgs', disp=False)\n",
        "#print(result3.summary())"
      ],
      "metadata": {
        "id": "XvkoK4XIdZRR"
      },
      "execution_count": 469,
      "outputs": []
    },
    {
      "cell_type": "markdown",
      "source": [
        "**Regression Discontinuity Design**"
      ],
      "metadata": {
        "id": "lSNPGhBdqiR5"
      }
    },
    {
      "cell_type": "code",
      "source": [
        "# Using R - %%R to make the whole cell run in R\n",
        "%load_ext rpy2.ipython\n",
        "\n",
        "from rpy2.robjects import r, pandas2ri\n",
        "import rpy2.robjects as ro\n",
        "from rpy2.robjects.conversion import localconverter\n",
        "import rpy2.robjects.packages as rpackages\n",
        "from rpy2.robjects import globalenv\n",
        "# from rpy2.robjects.vectors import StrVector\n",
        "\n",
        "\n",
        "pandas2ri.activate()"
      ],
      "metadata": {
        "colab": {
          "base_uri": "https://localhost:8080/"
        },
        "id": "mETephSYqnFK",
        "outputId": "6ec50aba-971b-4cac-d257-33056c5cdf9c"
      },
      "execution_count": 470,
      "outputs": [
        {
          "output_type": "stream",
          "name": "stdout",
          "text": [
            "The rpy2.ipython extension is already loaded. To reload it, use:\n",
            "  %reload_ext rpy2.ipython\n"
          ]
        }
      ]
    },
    {
      "cell_type": "code",
      "source": [
        "%%R\n",
        "install.packages('rdrobust')\n",
        "install.packages('rddensity')\n",
        "install.packages('huxtable')"
      ],
      "metadata": {
        "id": "am0lUYNn17k4",
        "colab": {
          "base_uri": "https://localhost:8080/"
        },
        "outputId": "00354e63-a5f7-4b3a-e413-ca1b5feec182"
      },
      "execution_count": 471,
      "outputs": [
        {
          "output_type": "stream",
          "name": "stderr",
          "text": [
            "WARNING:rpy2.rinterface_lib.callbacks:R[write to console]: Installing package into ‘/usr/local/lib/R/site-library’\n",
            "(as ‘lib’ is unspecified)\n",
            "\n",
            "WARNING:rpy2.rinterface_lib.callbacks:R[write to console]: trying URL 'https://cran.rstudio.com/src/contrib/rdrobust_2.0.3.tar.gz'\n",
            "\n",
            "WARNING:rpy2.rinterface_lib.callbacks:R[write to console]: Content type 'application/x-gzip'\n",
            "WARNING:rpy2.rinterface_lib.callbacks:R[write to console]:  length 48537 bytes (47 KB)\n",
            "\n",
            "WARNING:rpy2.rinterface_lib.callbacks:R[write to console]: =\n",
            "WARNING:rpy2.rinterface_lib.callbacks:R[write to console]: =\n",
            "WARNING:rpy2.rinterface_lib.callbacks:R[write to console]: =\n",
            "WARNING:rpy2.rinterface_lib.callbacks:R[write to console]: =\n",
            "WARNING:rpy2.rinterface_lib.callbacks:R[write to console]: =\n",
            "WARNING:rpy2.rinterface_lib.callbacks:R[write to console]: =\n",
            "WARNING:rpy2.rinterface_lib.callbacks:R[write to console]: =\n",
            "WARNING:rpy2.rinterface_lib.callbacks:R[write to console]: =\n",
            "WARNING:rpy2.rinterface_lib.callbacks:R[write to console]: =\n",
            "WARNING:rpy2.rinterface_lib.callbacks:R[write to console]: =\n",
            "WARNING:rpy2.rinterface_lib.callbacks:R[write to console]: =\n",
            "WARNING:rpy2.rinterface_lib.callbacks:R[write to console]: =\n",
            "WARNING:rpy2.rinterface_lib.callbacks:R[write to console]: =\n",
            "WARNING:rpy2.rinterface_lib.callbacks:R[write to console]: =\n",
            "WARNING:rpy2.rinterface_lib.callbacks:R[write to console]: =\n",
            "WARNING:rpy2.rinterface_lib.callbacks:R[write to console]: =\n",
            "WARNING:rpy2.rinterface_lib.callbacks:R[write to console]: =\n",
            "WARNING:rpy2.rinterface_lib.callbacks:R[write to console]: =\n",
            "WARNING:rpy2.rinterface_lib.callbacks:R[write to console]: =\n",
            "WARNING:rpy2.rinterface_lib.callbacks:R[write to console]: =\n",
            "WARNING:rpy2.rinterface_lib.callbacks:R[write to console]: =\n",
            "WARNING:rpy2.rinterface_lib.callbacks:R[write to console]: =\n",
            "WARNING:rpy2.rinterface_lib.callbacks:R[write to console]: =\n",
            "WARNING:rpy2.rinterface_lib.callbacks:R[write to console]: =\n",
            "WARNING:rpy2.rinterface_lib.callbacks:R[write to console]: =\n",
            "WARNING:rpy2.rinterface_lib.callbacks:R[write to console]: =\n",
            "WARNING:rpy2.rinterface_lib.callbacks:R[write to console]: =\n",
            "WARNING:rpy2.rinterface_lib.callbacks:R[write to console]: =\n",
            "WARNING:rpy2.rinterface_lib.callbacks:R[write to console]: =\n",
            "WARNING:rpy2.rinterface_lib.callbacks:R[write to console]: =\n",
            "WARNING:rpy2.rinterface_lib.callbacks:R[write to console]: =\n",
            "WARNING:rpy2.rinterface_lib.callbacks:R[write to console]: =\n",
            "WARNING:rpy2.rinterface_lib.callbacks:R[write to console]: =\n",
            "WARNING:rpy2.rinterface_lib.callbacks:R[write to console]: =\n",
            "WARNING:rpy2.rinterface_lib.callbacks:R[write to console]: =\n",
            "WARNING:rpy2.rinterface_lib.callbacks:R[write to console]: =\n",
            "WARNING:rpy2.rinterface_lib.callbacks:R[write to console]: =\n",
            "WARNING:rpy2.rinterface_lib.callbacks:R[write to console]: =\n",
            "WARNING:rpy2.rinterface_lib.callbacks:R[write to console]: =\n",
            "WARNING:rpy2.rinterface_lib.callbacks:R[write to console]: =\n",
            "WARNING:rpy2.rinterface_lib.callbacks:R[write to console]: =\n",
            "WARNING:rpy2.rinterface_lib.callbacks:R[write to console]: =\n",
            "WARNING:rpy2.rinterface_lib.callbacks:R[write to console]: =\n",
            "WARNING:rpy2.rinterface_lib.callbacks:R[write to console]: =\n",
            "WARNING:rpy2.rinterface_lib.callbacks:R[write to console]: =\n",
            "WARNING:rpy2.rinterface_lib.callbacks:R[write to console]: =\n",
            "WARNING:rpy2.rinterface_lib.callbacks:R[write to console]: =\n",
            "WARNING:rpy2.rinterface_lib.callbacks:R[write to console]: =\n",
            "WARNING:rpy2.rinterface_lib.callbacks:R[write to console]: =\n",
            "WARNING:rpy2.rinterface_lib.callbacks:R[write to console]: =\n",
            "WARNING:rpy2.rinterface_lib.callbacks:R[write to console]: \n",
            "\n",
            "WARNING:rpy2.rinterface_lib.callbacks:R[write to console]: downloaded 47 KB\n",
            "\n",
            "\n",
            "WARNING:rpy2.rinterface_lib.callbacks:R[write to console]: \n",
            "\n",
            "WARNING:rpy2.rinterface_lib.callbacks:R[write to console]: \n",
            "WARNING:rpy2.rinterface_lib.callbacks:R[write to console]: The downloaded source packages are in\n",
            "\t‘/tmp/RtmptIPydY/downloaded_packages’\n",
            "WARNING:rpy2.rinterface_lib.callbacks:R[write to console]: \n",
            "WARNING:rpy2.rinterface_lib.callbacks:R[write to console]: \n",
            "\n",
            "WARNING:rpy2.rinterface_lib.callbacks:R[write to console]: Installing package into ‘/usr/local/lib/R/site-library’\n",
            "(as ‘lib’ is unspecified)\n",
            "\n",
            "WARNING:rpy2.rinterface_lib.callbacks:R[write to console]: trying URL 'https://cran.rstudio.com/src/contrib/rddensity_2.2.tar.gz'\n",
            "\n",
            "WARNING:rpy2.rinterface_lib.callbacks:R[write to console]: Content type 'application/x-gzip'\n",
            "WARNING:rpy2.rinterface_lib.callbacks:R[write to console]:  length 60254 bytes (58 KB)\n",
            "\n",
            "WARNING:rpy2.rinterface_lib.callbacks:R[write to console]: =\n",
            "WARNING:rpy2.rinterface_lib.callbacks:R[write to console]: =\n",
            "WARNING:rpy2.rinterface_lib.callbacks:R[write to console]: =\n",
            "WARNING:rpy2.rinterface_lib.callbacks:R[write to console]: =\n",
            "WARNING:rpy2.rinterface_lib.callbacks:R[write to console]: =\n",
            "WARNING:rpy2.rinterface_lib.callbacks:R[write to console]: =\n",
            "WARNING:rpy2.rinterface_lib.callbacks:R[write to console]: =\n",
            "WARNING:rpy2.rinterface_lib.callbacks:R[write to console]: =\n",
            "WARNING:rpy2.rinterface_lib.callbacks:R[write to console]: =\n",
            "WARNING:rpy2.rinterface_lib.callbacks:R[write to console]: =\n",
            "WARNING:rpy2.rinterface_lib.callbacks:R[write to console]: =\n",
            "WARNING:rpy2.rinterface_lib.callbacks:R[write to console]: =\n",
            "WARNING:rpy2.rinterface_lib.callbacks:R[write to console]: =\n",
            "WARNING:rpy2.rinterface_lib.callbacks:R[write to console]: =\n",
            "WARNING:rpy2.rinterface_lib.callbacks:R[write to console]: =\n",
            "WARNING:rpy2.rinterface_lib.callbacks:R[write to console]: =\n",
            "WARNING:rpy2.rinterface_lib.callbacks:R[write to console]: =\n",
            "WARNING:rpy2.rinterface_lib.callbacks:R[write to console]: =\n",
            "WARNING:rpy2.rinterface_lib.callbacks:R[write to console]: =\n",
            "WARNING:rpy2.rinterface_lib.callbacks:R[write to console]: =\n",
            "WARNING:rpy2.rinterface_lib.callbacks:R[write to console]: =\n",
            "WARNING:rpy2.rinterface_lib.callbacks:R[write to console]: =\n",
            "WARNING:rpy2.rinterface_lib.callbacks:R[write to console]: =\n",
            "WARNING:rpy2.rinterface_lib.callbacks:R[write to console]: =\n",
            "WARNING:rpy2.rinterface_lib.callbacks:R[write to console]: =\n",
            "WARNING:rpy2.rinterface_lib.callbacks:R[write to console]: =\n",
            "WARNING:rpy2.rinterface_lib.callbacks:R[write to console]: =\n",
            "WARNING:rpy2.rinterface_lib.callbacks:R[write to console]: =\n",
            "WARNING:rpy2.rinterface_lib.callbacks:R[write to console]: =\n",
            "WARNING:rpy2.rinterface_lib.callbacks:R[write to console]: =\n",
            "WARNING:rpy2.rinterface_lib.callbacks:R[write to console]: =\n",
            "WARNING:rpy2.rinterface_lib.callbacks:R[write to console]: =\n",
            "WARNING:rpy2.rinterface_lib.callbacks:R[write to console]: =\n",
            "WARNING:rpy2.rinterface_lib.callbacks:R[write to console]: =\n",
            "WARNING:rpy2.rinterface_lib.callbacks:R[write to console]: =\n",
            "WARNING:rpy2.rinterface_lib.callbacks:R[write to console]: =\n",
            "WARNING:rpy2.rinterface_lib.callbacks:R[write to console]: =\n",
            "WARNING:rpy2.rinterface_lib.callbacks:R[write to console]: =\n",
            "WARNING:rpy2.rinterface_lib.callbacks:R[write to console]: =\n",
            "WARNING:rpy2.rinterface_lib.callbacks:R[write to console]: =\n",
            "WARNING:rpy2.rinterface_lib.callbacks:R[write to console]: =\n",
            "WARNING:rpy2.rinterface_lib.callbacks:R[write to console]: =\n",
            "WARNING:rpy2.rinterface_lib.callbacks:R[write to console]: =\n",
            "WARNING:rpy2.rinterface_lib.callbacks:R[write to console]: =\n",
            "WARNING:rpy2.rinterface_lib.callbacks:R[write to console]: =\n",
            "WARNING:rpy2.rinterface_lib.callbacks:R[write to console]: =\n",
            "WARNING:rpy2.rinterface_lib.callbacks:R[write to console]: =\n",
            "WARNING:rpy2.rinterface_lib.callbacks:R[write to console]: =\n",
            "WARNING:rpy2.rinterface_lib.callbacks:R[write to console]: =\n",
            "WARNING:rpy2.rinterface_lib.callbacks:R[write to console]: =\n",
            "WARNING:rpy2.rinterface_lib.callbacks:R[write to console]: \n",
            "\n",
            "WARNING:rpy2.rinterface_lib.callbacks:R[write to console]: downloaded 58 KB\n",
            "\n",
            "\n",
            "WARNING:rpy2.rinterface_lib.callbacks:R[write to console]: \n",
            "\n",
            "WARNING:rpy2.rinterface_lib.callbacks:R[write to console]: \n",
            "WARNING:rpy2.rinterface_lib.callbacks:R[write to console]: The downloaded source packages are in\n",
            "\t‘/tmp/RtmptIPydY/downloaded_packages’\n",
            "WARNING:rpy2.rinterface_lib.callbacks:R[write to console]: \n",
            "WARNING:rpy2.rinterface_lib.callbacks:R[write to console]: \n",
            "\n",
            "WARNING:rpy2.rinterface_lib.callbacks:R[write to console]: Installing package into ‘/usr/local/lib/R/site-library’\n",
            "(as ‘lib’ is unspecified)\n",
            "\n",
            "WARNING:rpy2.rinterface_lib.callbacks:R[write to console]: trying URL 'https://cran.rstudio.com/src/contrib/huxtable_5.5.0.tar.gz'\n",
            "\n",
            "WARNING:rpy2.rinterface_lib.callbacks:R[write to console]: Content type 'application/x-gzip'\n",
            "WARNING:rpy2.rinterface_lib.callbacks:R[write to console]:  length 1043161 bytes (1018 KB)\n",
            "\n",
            "WARNING:rpy2.rinterface_lib.callbacks:R[write to console]: =\n",
            "WARNING:rpy2.rinterface_lib.callbacks:R[write to console]: =\n",
            "WARNING:rpy2.rinterface_lib.callbacks:R[write to console]: =\n",
            "WARNING:rpy2.rinterface_lib.callbacks:R[write to console]: =\n",
            "WARNING:rpy2.rinterface_lib.callbacks:R[write to console]: =\n",
            "WARNING:rpy2.rinterface_lib.callbacks:R[write to console]: =\n",
            "WARNING:rpy2.rinterface_lib.callbacks:R[write to console]: =\n",
            "WARNING:rpy2.rinterface_lib.callbacks:R[write to console]: =\n",
            "WARNING:rpy2.rinterface_lib.callbacks:R[write to console]: =\n",
            "WARNING:rpy2.rinterface_lib.callbacks:R[write to console]: =\n",
            "WARNING:rpy2.rinterface_lib.callbacks:R[write to console]: =\n",
            "WARNING:rpy2.rinterface_lib.callbacks:R[write to console]: =\n",
            "WARNING:rpy2.rinterface_lib.callbacks:R[write to console]: =\n",
            "WARNING:rpy2.rinterface_lib.callbacks:R[write to console]: =\n",
            "WARNING:rpy2.rinterface_lib.callbacks:R[write to console]: =\n",
            "WARNING:rpy2.rinterface_lib.callbacks:R[write to console]: =\n",
            "WARNING:rpy2.rinterface_lib.callbacks:R[write to console]: =\n",
            "WARNING:rpy2.rinterface_lib.callbacks:R[write to console]: =\n",
            "WARNING:rpy2.rinterface_lib.callbacks:R[write to console]: =\n",
            "WARNING:rpy2.rinterface_lib.callbacks:R[write to console]: =\n",
            "WARNING:rpy2.rinterface_lib.callbacks:R[write to console]: =\n",
            "WARNING:rpy2.rinterface_lib.callbacks:R[write to console]: =\n",
            "WARNING:rpy2.rinterface_lib.callbacks:R[write to console]: =\n",
            "WARNING:rpy2.rinterface_lib.callbacks:R[write to console]: =\n",
            "WARNING:rpy2.rinterface_lib.callbacks:R[write to console]: =\n",
            "WARNING:rpy2.rinterface_lib.callbacks:R[write to console]: =\n",
            "WARNING:rpy2.rinterface_lib.callbacks:R[write to console]: =\n",
            "WARNING:rpy2.rinterface_lib.callbacks:R[write to console]: =\n",
            "WARNING:rpy2.rinterface_lib.callbacks:R[write to console]: =\n",
            "WARNING:rpy2.rinterface_lib.callbacks:R[write to console]: =\n",
            "WARNING:rpy2.rinterface_lib.callbacks:R[write to console]: =\n",
            "WARNING:rpy2.rinterface_lib.callbacks:R[write to console]: =\n",
            "WARNING:rpy2.rinterface_lib.callbacks:R[write to console]: =\n",
            "WARNING:rpy2.rinterface_lib.callbacks:R[write to console]: =\n",
            "WARNING:rpy2.rinterface_lib.callbacks:R[write to console]: =\n",
            "WARNING:rpy2.rinterface_lib.callbacks:R[write to console]: =\n",
            "WARNING:rpy2.rinterface_lib.callbacks:R[write to console]: =\n",
            "WARNING:rpy2.rinterface_lib.callbacks:R[write to console]: =\n",
            "WARNING:rpy2.rinterface_lib.callbacks:R[write to console]: =\n",
            "WARNING:rpy2.rinterface_lib.callbacks:R[write to console]: =\n",
            "WARNING:rpy2.rinterface_lib.callbacks:R[write to console]: =\n",
            "WARNING:rpy2.rinterface_lib.callbacks:R[write to console]: =\n",
            "WARNING:rpy2.rinterface_lib.callbacks:R[write to console]: =\n",
            "WARNING:rpy2.rinterface_lib.callbacks:R[write to console]: =\n",
            "WARNING:rpy2.rinterface_lib.callbacks:R[write to console]: =\n",
            "WARNING:rpy2.rinterface_lib.callbacks:R[write to console]: =\n",
            "WARNING:rpy2.rinterface_lib.callbacks:R[write to console]: =\n",
            "WARNING:rpy2.rinterface_lib.callbacks:R[write to console]: =\n",
            "WARNING:rpy2.rinterface_lib.callbacks:R[write to console]: =\n",
            "WARNING:rpy2.rinterface_lib.callbacks:R[write to console]: =\n",
            "WARNING:rpy2.rinterface_lib.callbacks:R[write to console]: \n",
            "\n",
            "WARNING:rpy2.rinterface_lib.callbacks:R[write to console]: downloaded 1018 KB\n",
            "\n",
            "\n",
            "WARNING:rpy2.rinterface_lib.callbacks:R[write to console]: \n",
            "\n",
            "WARNING:rpy2.rinterface_lib.callbacks:R[write to console]: \n",
            "WARNING:rpy2.rinterface_lib.callbacks:R[write to console]: The downloaded source packages are in\n",
            "\t‘/tmp/RtmptIPydY/downloaded_packages’\n",
            "WARNING:rpy2.rinterface_lib.callbacks:R[write to console]: \n",
            "WARNING:rpy2.rinterface_lib.callbacks:R[write to console]: \n",
            "\n"
          ]
        }
      ]
    },
    {
      "cell_type": "code",
      "source": [
        "%%R\n",
        "library(tidyverse)\n",
        "library(broom)\n",
        "library(rdrobust)\n",
        "library(rddensity)\n",
        "library(huxtable)\n"
      ],
      "metadata": {
        "id": "U2j6Ss_-jxiE"
      },
      "execution_count": 472,
      "outputs": []
    },
    {
      "cell_type": "code",
      "source": [
        "model3 = df[['MARGIN_VICTORY','INCUMBENTE_ST_REELEICAO','N_ELEITO_2016_ST_REELEICAO',\"NPI_index\", \\\n",
        "             'Bolsonaro_share','INCUMBENTE_Espectro_direita','INCUMBENTE_Espectro_esquerda',\"INCUMBENTE_Espectro_centro\"]].dropna(subset=['MARGIN_VICTORY'])"
      ],
      "metadata": {
        "id": "395hcg8YULcB"
      },
      "execution_count": 473,
      "outputs": []
    },
    {
      "cell_type": "code",
      "source": [
        "model3['INCUMBENTE_ST_REELEICAO'].unique()"
      ],
      "metadata": {
        "colab": {
          "base_uri": "https://localhost:8080/"
        },
        "id": "zh0fAduy7inR",
        "outputId": "8e300173-3f21-428e-f4e7-5dc13eda4339"
      },
      "execution_count": 474,
      "outputs": [
        {
          "output_type": "execute_result",
          "data": {
            "text/plain": [
              "array(['S', 'N', 'Não divulgável'], dtype=object)"
            ]
          },
          "metadata": {},
          "execution_count": 474
        }
      ]
    },
    {
      "cell_type": "code",
      "source": [
        "model3 = model3.drop(model3[(model3.INCUMBENTE_ST_REELEICAO != 'S') & (model3.N_ELEITO_2016_ST_REELEICAO != 'S')].index)\n",
        "model3 = model3.drop(model3[(model3.INCUMBENTE_ST_REELEICAO == 'S') & (model3.N_ELEITO_2016_ST_REELEICAO == 'S')].index)"
      ],
      "metadata": {
        "id": "Gi1GYIdY8dI8"
      },
      "execution_count": 475,
      "outputs": []
    },
    {
      "cell_type": "code",
      "source": [
        "model3['direita_candidato'] = model3['INCUMBENTE_Espectro_direita']*model3['INCUMBENTE_ST_REELEICAO']\n",
        "model3['esquerda_candidato'] = model3['INCUMBENTE_Espectro_esquerda']*model3['INCUMBENTE_ST_REELEICAO']"
      ],
      "metadata": {
        "id": "TuMhnrFMjOkv"
      },
      "execution_count": 476,
      "outputs": []
    },
    {
      "cell_type": "code",
      "source": [
        "model3['INCUMBENTE_ST_REELEICAO'].value_counts()"
      ],
      "metadata": {
        "colab": {
          "base_uri": "https://localhost:8080/"
        },
        "id": "5zi5s115mBLj",
        "outputId": "82ce8393-4eee-41b5-9dac-4427e44f6393"
      },
      "execution_count": 477,
      "outputs": [
        {
          "output_type": "execute_result",
          "data": {
            "text/plain": [
              "S    1223\n",
              "N    1176\n",
              "Name: INCUMBENTE_ST_REELEICAO, dtype: int64"
            ]
          },
          "metadata": {},
          "execution_count": 477
        }
      ]
    },
    {
      "cell_type": "code",
      "source": [
        "model3['MARGIN_VICTORY'].max()"
      ],
      "metadata": {
        "colab": {
          "base_uri": "https://localhost:8080/"
        },
        "id": "OoMvbZhB4bEz",
        "outputId": "879119bc-c722-4fba-9c44-e357f9f91780"
      },
      "execution_count": 478,
      "outputs": [
        {
          "output_type": "execute_result",
          "data": {
            "text/plain": [
              "0.9529303434080814"
            ]
          },
          "metadata": {},
          "execution_count": 478
        }
      ]
    },
    {
      "cell_type": "code",
      "source": [
        "r_df = ro.conversion.py2rpy(model3)\n",
        "globalenv['r_df'] = r_df"
      ],
      "metadata": {
        "id": "K8LcLk8WWmTc"
      },
      "execution_count": 479,
      "outputs": []
    },
    {
      "cell_type": "code",
      "source": [
        "%%R\n",
        "result_rdd <- rdplotdensity(rdd = rddensity(X = r_df$MARGIN_VICTORY, c = 0), X = r_df$MARGIN_VICTORY)"
      ],
      "metadata": {
        "colab": {
          "base_uri": "https://localhost:8080/",
          "height": 497
        },
        "id": "72rY76305FE7",
        "outputId": "33b89a08-2c49-4957-c024-3a4d71442dce"
      },
      "execution_count": 480,
      "outputs": [
        {
          "output_type": "display_data",
          "data": {
            "image/png": "[encoded data removed]"
          },
          "metadata": {}
        }
      ]
    },
    {
      "cell_type": "code",
      "source": [
        "%%R\n",
        "\n",
        "ggplot(r_df, aes(x = MARGIN_VICTORY, y = NPI_index, color = INCUMBENTE_ST_REELEICAO)) +\n",
        "  # geom_point(size = 0.5, alpha = 0.5) + \n",
        "  # Add a line based on a linear model for the incumbent not reelected\n",
        "  geom_smooth(formula = y ~ x, data = filter(r_df, MARGIN_VICTORY < 0), method = \"glm\") +\n",
        "  # Add a line based on a linear model for the reelected incumbent\n",
        "  geom_smooth(formula = y ~ x, data = filter(r_df, MARGIN_VICTORY >= 0), method = \"glm\") +\n",
        "  geom_vline(xintercept = 0) +\n",
        "  labs(x = \"Margin of victory in 2016\", y = \"NPIs adopted\", color = \"reelected in 2016\")"
      ],
      "metadata": {
        "colab": {
          "base_uri": "https://localhost:8080/",
          "height": 497
        },
        "id": "86sAX9iChkhy",
        "outputId": "dc97ae78-2837-4a66-c058-b33d58070771"
      },
      "execution_count": 481,
      "outputs": [
        {
          "output_type": "display_data",
          "data": {
            "image/png": "[encoded data removed]"
          },
          "metadata": {}
        }
      ]
    },
    {
      "cell_type": "code",
      "source": [
        "%%R\n",
        "\n",
        "ggplot(r_df, aes(x = MARGIN_VICTORY, y = NPI_index, color = INCUMBENTE_ST_REELEICAO)) +\n",
        "  # geom_point(size = 0.5, alpha = 0.5) + \n",
        "  # Add a line based on a linear model for the incumbent not reelected\n",
        "  geom_smooth(formula = y ~ x, data = filter(r_df, MARGIN_VICTORY < 0 & INCUMBENTE_Espectro_direita == 1), method = \"glm\") +\n",
        "  # Add a line based on a linear model for the reelected incumbent\n",
        "  geom_smooth(formula = y ~ x, data = filter(r_df, MARGIN_VICTORY >= 0 & INCUMBENTE_Espectro_direita == 1), method = \"glm\") +\n",
        "  geom_vline(xintercept = 0) +\n",
        "  labs(x = \"Margin of victory in 2016\", y = \"NPIs adopted\", color = \"reelected in 2016\", title = \"Rightwing Incumbent\")"
      ],
      "metadata": {
        "colab": {
          "base_uri": "https://localhost:8080/",
          "height": 497
        },
        "id": "hUi3P0uPlXzX",
        "outputId": "61a743b3-e9b6-4bbf-c620-7d7b5a4c30d1"
      },
      "execution_count": 482,
      "outputs": [
        {
          "output_type": "display_data",
          "data": {
            "image/png": "[encoded data removed]"
          },
          "metadata": {}
        }
      ]
    },
    {
      "cell_type": "code",
      "source": [
        "%%R\n",
        "\n",
        "ggplot(r_df, aes(x = MARGIN_VICTORY, y = NPI_index, color = INCUMBENTE_ST_REELEICAO)) +\n",
        "  # geom_point(size = 0.5, alpha = 0.5) + \n",
        "  # Add a line based on a linear model for the incumbent not reelected\n",
        "  geom_smooth(formula = y ~ x, data = filter(r_df, MARGIN_VICTORY < 0 & INCUMBENTE_Espectro_esquerda == 1), method = \"glm\") +\n",
        "  # Add a line based on a linear model for the reelected incumbent\n",
        "  geom_smooth(formula = y ~ x, data = filter(r_df, MARGIN_VICTORY >= 0 & INCUMBENTE_Espectro_esquerda == 1), method = \"glm\") +\n",
        "  geom_vline(xintercept = 0) +\n",
        "  labs(x = \"Margin of victory in 2016\", y = \"NPIs adopted\", color = \"reelected in 2016\") + \n",
        "  ggtitle(\"Leftwing Incumbent\")"
      ],
      "metadata": {
        "colab": {
          "base_uri": "https://localhost:8080/",
          "height": 497
        },
        "id": "tI9iirX8yPCY",
        "outputId": "eefa19c2-7d28-4e25-ec9d-d3cfdf7296f5"
      },
      "execution_count": 483,
      "outputs": [
        {
          "output_type": "display_data",
          "data": {
            "image/png": "[encoded data removed]"
          },
          "metadata": {}
        }
      ]
    },
    {
      "cell_type": "code",
      "source": [
        "%%R\n",
        "\n",
        "ggplot(r_df, aes(x = MARGIN_VICTORY, y = NPI_index, color = INCUMBENTE_ST_REELEICAO)) +\n",
        "  # geom_point(size = 0.5, alpha = 0.5) + \n",
        "  # Add a line based on a linear model for the incumbent not reelected\n",
        "  geom_smooth(formula = y ~ x, data = filter(r_df, MARGIN_VICTORY < 0 & INCUMBENTE_Espectro_centro == 1), method = \"glm\") +\n",
        "  # Add a line based on a linear model for the reelected incumbent\n",
        "  geom_smooth(formula = y ~ x, data = filter(r_df, MARGIN_VICTORY >= 0 & INCUMBENTE_Espectro_centro == 1), method = \"glm\") +\n",
        "  geom_vline(xintercept = 0) +\n",
        "  labs(x = \"Margin of victory in 2016\", y = \"NPIs adopted\", color = \"reelected in 2016\") + \n",
        "  ggtitle(\"Centrist Incumbent\")"
      ],
      "metadata": {
        "colab": {
          "base_uri": "https://localhost:8080/",
          "height": 497
        },
        "id": "9MvR51eLyipZ",
        "outputId": "1a72296c-5c19-41a2-bf7b-bf973df5d3ba"
      },
      "execution_count": 484,
      "outputs": [
        {
          "output_type": "display_data",
          "data": {
            "image/png": "[encoded data removed]"
          },
          "metadata": {}
        }
      ]
    },
    {
      "cell_type": "code",
      "source": [
        "%%R\n",
        "\n",
        "model_simple <- lm(NPI_index ~ MARGIN_VICTORY + INCUMBENTE_ST_REELEICAO, \n",
        "                   data = r_df)\n",
        "tidy(model_simple)"
      ],
      "metadata": {
        "colab": {
          "base_uri": "https://localhost:8080/"
        },
        "id": "UDdWavpwzviP",
        "outputId": "08424409-7dde-45d9-dc72-f72f92e4b1d6"
      },
      "execution_count": 485,
      "outputs": [
        {
          "output_type": "stream",
          "name": "stdout",
          "text": [
            "                      term    estimate  std.error   statistic   p.value\n",
            "1              (Intercept)  2.69432660 0.02097514 128.4533402 0.0000000\n",
            "2           MARGIN_VICTORY -0.06472828 0.08418860  -0.7688486 0.4420909\n",
            "3 INCUMBENTE_ST_REELEICAOS  0.03772420 0.03587397   1.0515757 0.2931450\n"
          ]
        }
      ]
    },
    {
      "cell_type": "code",
      "source": [
        "%%R\n",
        "\n",
        "model3 <- lm(NPI_index ~ MARGIN_VICTORY + esquerda_candidato + direita_candidato + Bolsonaro_share, \n",
        "                   data = r_df)\n",
        "tidy(model3)"
      ],
      "metadata": {
        "colab": {
          "base_uri": "https://localhost:8080/"
        },
        "id": "Rh3FLqKq2nYZ",
        "outputId": "eecac09c-ca5a-4d4e-ee23-9d58a9c5eca2"
      },
      "execution_count": 491,
      "outputs": [
        {
          "output_type": "stream",
          "name": "stdout",
          "text": [
            "                 term     estimate  std.error  statistic      p.value\n",
            "1         (Intercept)  2.878029159 0.03747730 76.7939272 0.000000e+00\n",
            "2      MARGIN_VICTORY  0.011723128 0.06956947  0.1685097 8.662026e-01\n",
            "3 esquerda_candidatoN -0.030789203 0.04490391 -0.6856687 4.930166e-01\n",
            "4 esquerda_candidatoS -0.037250119 0.04014172 -0.9279653 3.535587e-01\n",
            "5  direita_candidatoN -0.029267074 0.03527509 -0.8296811 4.068368e-01\n",
            "6  direita_candidatoS  0.004513456 0.03588851  0.1257633 8.999343e-01\n",
            "7     Bolsonaro_share -0.307863440 0.05726874 -5.3757681 8.694151e-08\n"
          ]
        }
      ]
    },
    {
      "cell_type": "code",
      "source": [
        "%%R\n",
        "\n",
        "model_bw_10 <- lm(NPI_index ~ MARGIN_VICTORY + esquerda_candidato + direita_candidato + Bolsonaro_share, \n",
        "                  data = filter(r_df, \n",
        "                                MARGIN_VICTORY >= -0.10 & MARGIN_VICTORY <= 0.10))\n",
        "tidy(model_bw_10)"
      ],
      "metadata": {
        "colab": {
          "base_uri": "https://localhost:8080/"
        },
        "id": "WDIJdgpk-qnJ",
        "outputId": "699a9fb0-ca1a-4a18-ed78-eb02bb8500ba"
      },
      "execution_count": 511,
      "outputs": [
        {
          "output_type": "stream",
          "name": "stdout",
          "text": [
            "                 term     estimate  std.error   statistic       p.value\n",
            "1         (Intercept)  2.900633622 0.05555529 52.21165298 2.440468e-249\n",
            "2      MARGIN_VICTORY -0.613406271 0.46489326 -1.31945614  1.874281e-01\n",
            "3 esquerda_candidatoN -0.062923695 0.06706773 -0.93821121  3.484445e-01\n",
            "4 esquerda_candidatoS -0.002654548 0.06444069 -0.04119367  9.671527e-01\n",
            "5  direita_candidatoN -0.084913798 0.05342305 -1.58945985  1.123872e-01\n",
            "6  direita_candidatoS  0.069404234 0.05698064  1.21803193  2.236032e-01\n",
            "7     Bolsonaro_share -0.325936790 0.08352257 -3.90238003  1.040092e-04\n"
          ]
        }
      ]
    },
    {
      "cell_type": "code",
      "source": [
        "%%R\n",
        "\n",
        "model_bw_5 <- lm(NPI_index ~ MARGIN_VICTORY + esquerda_candidato + direita_candidato + Bolsonaro_share, \n",
        "                  data = filter(r_df, \n",
        "                                MARGIN_VICTORY >= -0.05 & MARGIN_VICTORY <= 0.05))\n",
        "tidy(model_bw_5)"
      ],
      "metadata": {
        "colab": {
          "base_uri": "https://localhost:8080/"
        },
        "id": "jRXl9FvZ_Y3g",
        "outputId": "1f04ba24-a695-4d67-e017-55a79bc2f505"
      },
      "execution_count": 494,
      "outputs": [
        {
          "output_type": "stream",
          "name": "stdout",
          "text": [
            "                 term    estimate  std.error  statistic       p.value\n",
            "1         (Intercept)  2.88189406 0.07758334 37.1457851 4.173170e-131\n",
            "2      MARGIN_VICTORY -0.16575846 1.26208745 -0.1313367  8.955756e-01\n",
            "3 esquerda_candidatoN -0.06875261 0.09557776 -0.7193369  4.723577e-01\n",
            "4 esquerda_candidatoS  0.01313681 0.09083897  0.1446164  8.850873e-01\n",
            "5  direita_candidatoN -0.10708004 0.07575919 -1.4134264  1.583160e-01\n",
            "6  direita_candidatoS  0.06895366 0.07712949  0.8939987  3.718656e-01\n",
            "7     Bolsonaro_share -0.27870235 0.11766512 -2.3686063  1.833448e-02\n"
          ]
        }
      ]
    },
    {
      "cell_type": "code",
      "source": [
        "%%R\n",
        "\n",
        "model_bw_2 <- lm(NPI_index ~ MARGIN_VICTORY + esquerda_candidato + direita_candidato + Bolsonaro_share, \n",
        "                  data = filter(r_df, \n",
        "                                MARGIN_VICTORY >= -0.02 & MARGIN_VICTORY <= 0.02))\n",
        "tidy(model_bw_2)"
      ],
      "metadata": {
        "colab": {
          "base_uri": "https://localhost:8080/"
        },
        "id": "_wgELrMD_gzZ",
        "outputId": "e8787b6a-2074-4c07-df5a-3128f0a66d71"
      },
      "execution_count": 495,
      "outputs": [
        {
          "output_type": "stream",
          "name": "stdout",
          "text": [
            "                 term    estimate std.error  statistic      p.value\n",
            "1         (Intercept)  2.89809735 0.1188700 24.3803842 9.714895e-55\n",
            "2      MARGIN_VICTORY -1.50601526 4.4386052 -0.3392992 7.348466e-01\n",
            "3 esquerda_candidatoN -0.02064371 0.1362807 -0.1514793 8.797959e-01\n",
            "4 esquerda_candidatoS  0.17733735 0.1406243  1.2610716 2.091901e-01\n",
            "5  direita_candidatoN -0.28482921 0.1206947 -2.3599148 1.953274e-02\n",
            "6  direita_candidatoS  0.05231342 0.1063117  0.4920757 6.233666e-01\n",
            "7     Bolsonaro_share -0.25360353 0.1730982 -1.4650845 1.449365e-01\n"
          ]
        }
      ]
    },
    {
      "cell_type": "code",
      "source": [
        "%%R\n",
        "\n",
        "rdrobust(y = r_df$NPI_index, x = r_df$MARGIN_VICTORY, c = 0) %>% \n",
        "  summary()"
      ],
      "metadata": {
        "colab": {
          "base_uri": "https://localhost:8080/"
        },
        "id": "jGPkYhNd_sxs",
        "outputId": "3226950e-c7f1-4bdc-df73-5a64f10f11cd"
      },
      "execution_count": 514,
      "outputs": [
        {
          "output_type": "stream",
          "name": "stdout",
          "text": [
            "Sharp RD estimates using local polynomial regression.\n",
            "\n",
            "Number of Obs.                 1689\n",
            "BW type                       mserd\n",
            "Kernel                   Triangular\n",
            "VCE method                       NN\n",
            "\n",
            "Number of Obs.                  812          877\n",
            "Eff. Number of Obs.             585          557\n",
            "Order est. (p)                    1            1\n",
            "Order bias  (q)                   2            2\n",
            "BW est. (h)                   0.176        0.176\n",
            "BW bias (b)                   0.329        0.329\n",
            "rho (h/b)                     0.537        0.537\n",
            "Unique Obs.                     812          876\n",
            "\n",
            "=============================================================================\n",
            "        Method     Coef. Std. Err.         z     P>|z|      [ 95% C.I. ]       \n",
            "=============================================================================\n",
            "  Conventional     0.109     0.057     1.914     0.056    [-0.003 , 0.221]     \n",
            "        Robust         -         -     1.856     0.063    [-0.007 , 0.251]     \n",
            "=============================================================================\n"
          ]
        }
      ]
    },
    {
      "cell_type": "code",
      "source": [
        "%%R\n",
        "\n",
        "rdplot(y = r_df$NPI_index, x = r_df$MARGIN_VICTORY, c = 0)"
      ],
      "metadata": {
        "colab": {
          "base_uri": "https://localhost:8080/",
          "height": 497
        },
        "id": "P-dYmNPfBCaD",
        "outputId": "3a612750-ddaa-426c-c30b-68c308d6215b"
      },
      "execution_count": 500,
      "outputs": [
        {
          "output_type": "display_data",
          "data": {
            "image/png": "[encoded data removed]"
          },
          "metadata": {}
        }
      ]
    },
    {
      "cell_type": "code",
      "source": [
        "%%R\n",
        "\n",
        "rdbwselect(y = r_df$NPI_index, x = r_df$MARGIN_VICTORY, c = 0, all = TRUE) %>% \n",
        "  summary()"
      ],
      "metadata": {
        "colab": {
          "base_uri": "https://localhost:8080/"
        },
        "id": "BAEMf5B7BeYR",
        "outputId": "fe052d72-0b04-4ba8-c630-f117bc138c43"
      },
      "execution_count": 503,
      "outputs": [
        {
          "output_type": "stream",
          "name": "stdout",
          "text": [
            "Call: rdbwselect\n",
            "\n",
            "Number of Obs.                 1689\n",
            "BW type                         All\n",
            "Kernel                   Triangular\n",
            "VCE method                       NN\n",
            "\n",
            "Number of Obs.                  812          877\n",
            "Order est. (p)                    1            1\n",
            "Order bias  (q)                   2            2\n",
            "Unique Obs.                     812          876\n",
            "\n",
            "=======================================================\n",
            "                  BW est. (h)    BW bias (b)\n",
            "            Left of c Right of c  Left of c Right of c\n",
            "=======================================================\n",
            "     mserd     0.176      0.176      0.329      0.329\n",
            "    msetwo     0.183      0.189      0.311      0.394\n",
            "    msesum     0.188      0.188      0.348      0.348\n",
            "  msecomb1     0.176      0.176      0.329      0.329\n",
            "  msecomb2     0.183      0.188      0.329      0.348\n",
            "     cerrd     0.122      0.122      0.329      0.329\n",
            "    certwo     0.126      0.130      0.311      0.394\n",
            "    cersum     0.130      0.130      0.348      0.348\n",
            "  cercomb1     0.122      0.122      0.329      0.329\n",
            "  cercomb2     0.126      0.130      0.329      0.348\n",
            "=======================================================\n"
          ]
        }
      ]
    },
    {
      "cell_type": "code",
      "source": [
        "%%R\n",
        "\n",
        "rdrobust(y = r_df$NPI_index, x = r_df$MARGIN_VICTORY, c = 0, h = 0.1*2) %>% \n",
        "  summary()"
      ],
      "metadata": {
        "colab": {
          "base_uri": "https://localhost:8080/"
        },
        "id": "tO-PEV1RB5ZS",
        "outputId": "ac860482-b326-40d4-ac62-cbf44c718b5a"
      },
      "execution_count": 506,
      "outputs": [
        {
          "output_type": "stream",
          "name": "stdout",
          "text": [
            "Sharp RD estimates using local polynomial regression.\n",
            "\n",
            "Number of Obs.                 1689\n",
            "BW type                      Manual\n",
            "Kernel                   Triangular\n",
            "VCE method                       NN\n",
            "\n",
            "Number of Obs.                  812          877\n",
            "Eff. Number of Obs.             621          595\n",
            "Order est. (p)                    1            1\n",
            "Order bias  (q)                   2            2\n",
            "BW est. (h)                   0.200        0.200\n",
            "BW bias (b)                   0.200        0.200\n",
            "rho (h/b)                     1.000        1.000\n",
            "Unique Obs.                     812          877\n",
            "\n",
            "=============================================================================\n",
            "        Method     Coef. Std. Err.         z     P>|z|      [ 95% C.I. ]       \n",
            "=============================================================================\n",
            "  Conventional     0.101     0.055     1.855     0.064    [-0.006 , 0.208]     \n",
            "        Robust         -         -     2.041     0.041     [0.006 , 0.309]     \n",
            "=============================================================================\n"
          ]
        }
      ]
    },
    {
      "cell_type": "code",
      "source": [
        "%%R\n",
        "\n",
        "rdrobust(y = r_df$NPI_index, x = r_df$MARGIN_VICTORY, c = 0, kernel = \"epanechnikov\") %>% \n",
        "  summary()"
      ],
      "metadata": {
        "colab": {
          "base_uri": "https://localhost:8080/"
        },
        "id": "jfJqeaynCrJ5",
        "outputId": "49922b95-0ec9-484f-8b13-5a3ad3433299"
      },
      "execution_count": 508,
      "outputs": [
        {
          "output_type": "stream",
          "name": "stdout",
          "text": [
            "Sharp RD estimates using local polynomial regression.\n",
            "\n",
            "Number of Obs.                 1689\n",
            "BW type                       mserd\n",
            "Kernel                   Epanechnikov\n",
            "VCE method                       NN\n",
            "\n",
            "Number of Obs.                  812          877\n",
            "Eff. Number of Obs.             555          522\n",
            "Order est. (p)                    1            1\n",
            "Order bias  (q)                   2            2\n",
            "BW est. (h)                   0.162        0.162\n",
            "BW bias (b)                   0.307        0.307\n",
            "rho (h/b)                     0.528        0.528\n",
            "Unique Obs.                     812          876\n",
            "\n",
            "=============================================================================\n",
            "        Method     Coef. Std. Err.         z     P>|z|      [ 95% C.I. ]       \n",
            "=============================================================================\n",
            "  Conventional     0.108     0.058     1.875     0.061    [-0.005 , 0.222]     \n",
            "        Robust         -         -     1.791     0.073    [-0.011 , 0.251]     \n",
            "=============================================================================\n"
          ]
        }
      ]
    },
    {
      "cell_type": "code",
      "source": [
        "%%R\n",
        "\n",
        "rdrobust(y = r_df$NPI_index, x = r_df$MARGIN_VICTORY, c = 0, kernel = \"uniform\") %>% \n",
        "  summary()"
      ],
      "metadata": {
        "colab": {
          "base_uri": "https://localhost:8080/"
        },
        "id": "D3gTK_i_C4MF",
        "outputId": "66ed2853-45eb-4ec6-de7b-2cd3e0d3ed23"
      },
      "execution_count": 509,
      "outputs": [
        {
          "output_type": "stream",
          "name": "stdout",
          "text": [
            "Sharp RD estimates using local polynomial regression.\n",
            "\n",
            "Number of Obs.                 1689\n",
            "BW type                       mserd\n",
            "Kernel                      Uniform\n",
            "VCE method                       NN\n",
            "\n",
            "Number of Obs.                  812          877\n",
            "Eff. Number of Obs.             503          474\n",
            "Order est. (p)                    1            1\n",
            "Order bias  (q)                   2            2\n",
            "BW est. (h)                   0.140        0.140\n",
            "BW bias (b)                   0.288        0.288\n",
            "rho (h/b)                     0.486        0.486\n",
            "Unique Obs.                     812          876\n",
            "\n",
            "=============================================================================\n",
            "        Method     Coef. Std. Err.         z     P>|z|      [ 95% C.I. ]       \n",
            "=============================================================================\n",
            "  Conventional     0.102     0.059     1.735     0.083    [-0.013 , 0.217]     \n",
            "        Robust         -         -     1.544     0.123    [-0.028 , 0.236]     \n",
            "=============================================================================\n"
          ]
        }
      ]
    }
  ]
}